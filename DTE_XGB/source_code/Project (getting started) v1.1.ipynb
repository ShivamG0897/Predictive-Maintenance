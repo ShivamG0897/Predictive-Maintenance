{
 "cells": [
  {
   "cell_type": "code",
   "execution_count": 58,
   "id": "5137212f-7ff0-4b87-81ed-9bfda74add72",
   "metadata": {},
   "outputs": [],
   "source": [
    "import pandas as pd \n",
    "from sympy import * #Enables latex printing and creating equations for explanations \n",
    "import numpy as np \n",
    "import matplotlib.pyplot as plt\n",
    "import seaborn as sns\n",
    "import math #math.pi to get exact pi value \n",
    "import warnings \n",
    "warnings.filterwarnings('ignore')\n",
    "\n",
    "init_printing()"
   ]
  },
  {
   "cell_type": "code",
   "execution_count": 2,
   "id": "b052a4a9",
   "metadata": {},
   "outputs": [],
   "source": [
    "import time "
   ]
  },
  {
   "cell_type": "code",
   "execution_count": 3,
   "id": "37774db5",
   "metadata": {},
   "outputs": [
    {
     "name": "stdout",
     "output_type": "stream",
     "text": [
      "1688391796.9187067\n",
      "1688391796.9187067\n",
      "Elapsed time: 0.0 Seconds\n"
     ]
    }
   ],
   "source": [
    "#measure the start time - will be used to test the model's operation time\n",
    "start = time.time()\n",
    "print(start)\n",
    "end = time.time() \n",
    "print(end)\n",
    "elapsed_time = end - start\n",
    "print(\"Elapsed time:\" , elapsed_time , \"Seconds\")"
   ]
  },
  {
   "cell_type": "code",
   "execution_count": 4,
   "id": "38bdc3a2",
   "metadata": {},
   "outputs": [],
   "source": [
    "import multiprocessing "
   ]
  },
  {
   "cell_type": "code",
   "execution_count": 5,
   "id": "7694cfc9",
   "metadata": {},
   "outputs": [
    {
     "data": {
      "image/png": "[encoded data removed]",
      "text/latex": [
       "$\\displaystyle 8$"
      ],
      "text/plain": [
       "8"
      ]
     },
     "execution_count": 5,
     "metadata": {},
     "output_type": "execute_result"
    }
   ],
   "source": [
    "multiprocessing.cpu_count() # Use Parallelization to save time in outgut generation"
   ]
  },
  {
   "cell_type": "code",
   "execution_count": 59,
   "id": "6a0ee0db-9ca7-4ed5-9cd9-9c255cea3899",
   "metadata": {
    "tags": []
   },
   "outputs": [],
   "source": [
    "errors = pd.read_csv(\"PdM_errors.csv\")\n",
    "failures = pd.read_csv(\"PdM_failures.csv\")\n",
    "machines = pd.read_csv(\"PdM_machines.csv\")\n",
    "telemetry = pd.read_csv(\"PdM_telemetry.csv\")\n",
    "maint = pd.read_csv('PdM_maint.csv')"
   ]
  },
  {
   "cell_type": "code",
   "execution_count": null,
   "id": "8cc3515e",
   "metadata": {},
   "outputs": [],
   "source": [
    "def combiner (df1, df2):\n",
    "    df = df1.copy "
   ]
  },
  {
   "cell_type": "code",
   "execution_count": 101,
   "id": "729580e3",
   "metadata": {},
   "outputs": [
    {
     "data": {
      "text/html": [
       "<div>\n",
       "<style scoped>\n",
       "    .dataframe tbody tr th:only-of-type {\n",
       "        vertical-align: middle;\n",
       "    }\n",
       "\n",
       "    .dataframe tbody tr th {\n",
       "        vertical-align: top;\n",
       "    }\n",
       "\n",
       "    .dataframe thead th {\n",
       "        text-align: right;\n",
       "    }\n",
       "</style>\n",
       "<table border=\"1\" class=\"dataframe\">\n",
       "  <thead>\n",
       "    <tr style=\"text-align: right;\">\n",
       "      <th></th>\n",
       "      <th>datetime</th>\n",
       "      <th>machineID</th>\n",
       "      <th>failure</th>\n",
       "    </tr>\n",
       "  </thead>\n",
       "  <tbody>\n",
       "    <tr>\n",
       "      <th>0</th>\n",
       "      <td>2015-01-05 06:00:00</td>\n",
       "      <td>1</td>\n",
       "      <td>comp4</td>\n",
       "    </tr>\n",
       "    <tr>\n",
       "      <th>1</th>\n",
       "      <td>2015-03-06 06:00:00</td>\n",
       "      <td>1</td>\n",
       "      <td>comp1</td>\n",
       "    </tr>\n",
       "    <tr>\n",
       "      <th>2</th>\n",
       "      <td>2015-04-20 06:00:00</td>\n",
       "      <td>1</td>\n",
       "      <td>comp2</td>\n",
       "    </tr>\n",
       "    <tr>\n",
       "      <th>3</th>\n",
       "      <td>2015-06-19 06:00:00</td>\n",
       "      <td>1</td>\n",
       "      <td>comp4</td>\n",
       "    </tr>\n",
       "    <tr>\n",
       "      <th>4</th>\n",
       "      <td>2015-09-02 06:00:00</td>\n",
       "      <td>1</td>\n",
       "      <td>comp4</td>\n",
       "    </tr>\n",
       "    <tr>\n",
       "      <th>5</th>\n",
       "      <td>2015-10-17 06:00:00</td>\n",
       "      <td>1</td>\n",
       "      <td>comp2</td>\n",
       "    </tr>\n",
       "    <tr>\n",
       "      <th>6</th>\n",
       "      <td>2015-12-16 06:00:00</td>\n",
       "      <td>1</td>\n",
       "      <td>comp4</td>\n",
       "    </tr>\n",
       "    <tr>\n",
       "      <th>7</th>\n",
       "      <td>2015-03-19 06:00:00</td>\n",
       "      <td>2</td>\n",
       "      <td>comp1</td>\n",
       "    </tr>\n",
       "    <tr>\n",
       "      <th>8</th>\n",
       "      <td>2015-03-19 06:00:00</td>\n",
       "      <td>2</td>\n",
       "      <td>comp2</td>\n",
       "    </tr>\n",
       "    <tr>\n",
       "      <th>9</th>\n",
       "      <td>2015-04-18 06:00:00</td>\n",
       "      <td>2</td>\n",
       "      <td>comp2</td>\n",
       "    </tr>\n",
       "  </tbody>\n",
       "</table>\n",
       "</div>"
      ],
      "text/plain": [
       "              datetime  machineID failure\n",
       "0  2015-01-05 06:00:00          1   comp4\n",
       "1  2015-03-06 06:00:00          1   comp1\n",
       "2  2015-04-20 06:00:00          1   comp2\n",
       "3  2015-06-19 06:00:00          1   comp4\n",
       "4  2015-09-02 06:00:00          1   comp4\n",
       "5  2015-10-17 06:00:00          1   comp2\n",
       "6  2015-12-16 06:00:00          1   comp4\n",
       "7  2015-03-19 06:00:00          2   comp1\n",
       "8  2015-03-19 06:00:00          2   comp2\n",
       "9  2015-04-18 06:00:00          2   comp2"
      ]
     },
     "execution_count": 101,
     "metadata": {},
     "output_type": "execute_result"
    }
   ],
   "source": [
    "failures.head(10)"
   ]
  },
  {
   "cell_type": "code",
   "execution_count": 173,
   "id": "25528f03",
   "metadata": {},
   "outputs": [
    {
     "data": {
      "text/plain": [
       "MultiIndex([('A', 'b'),\n",
       "            ('C', 'a')],\n",
       "           names=['c', 'l'])"
      ]
     },
     "execution_count": 173,
     "metadata": {},
     "output_type": "execute_result"
    }
   ],
   "source": [
    "df1 = pd.DataFrame({'c': ['A', 'A', 'B', 'C', 'C'],\n",
    "                    'k': [1, 2, 2, 2, 2],\n",
    "                    'l': ['a', 'b', 'a', 'a', 'd']})\n",
    "df2 = pd.DataFrame({'c': ['A', 'C'],\n",
    "                    'l': ['b', 'a']})\n",
    "keys = list(df2.columns.values)\n",
    "i1 = df1.set_index(keys).index\n",
    "i2 = df2.set_index(keys).index\n",
    "df1[~i1.isin(i2)]\n"
   ]
  },
  {
   "cell_type": "code",
   "execution_count": 191,
   "id": "e3686ec5",
   "metadata": {},
   "outputs": [
    {
     "data": {
      "text/plain": [
       "array([0], dtype=int64)"
      ]
     },
     "execution_count": 191,
     "metadata": {},
     "output_type": "execute_result"
    }
   ],
   "source": [
    "#telee = tele.copy()\n",
    "#telee = telee.rename(columns={'failures': 'failure'}) \n",
    "\n",
    "keys = list(failures.columns.values)\n",
    "i1 = telee.set_index(keys).index\n",
    "i2 = failures.set_index(keys).index\n",
    "df = telee[~i1.isin(i2)]\n",
    "df['failure'].unique()"
   ]
  },
  {
   "cell_type": "code",
   "execution_count": null,
   "id": "aa2b638b",
   "metadata": {},
   "outputs": [],
   "source": []
  },
  {
   "cell_type": "code",
   "execution_count": 189,
   "id": "bb14024c",
   "metadata": {},
   "outputs": [
    {
     "data": {
      "text/plain": [
       "array([0], dtype=int64)"
      ]
     },
     "execution_count": 189,
     "metadata": {},
     "output_type": "execute_result"
    }
   ],
   "source": [
    "telee['failure'].unique()\n"
   ]
  },
  {
   "cell_type": "code",
   "execution_count": 185,
   "id": "92c2c129",
   "metadata": {},
   "outputs": [
    {
     "data": {
      "text/plain": [
       "Index(['datetime', 'machineID', 'volt', 'rotate', 'pressure', 'vibration',\n",
       "       'failures'],\n",
       "      dtype='object')"
      ]
     },
     "execution_count": 185,
     "metadata": {},
     "output_type": "execute_result"
    }
   ],
   "source": [
    "telee.keys()"
   ]
  },
  {
   "cell_type": "code",
   "execution_count": 192,
   "id": "bfe16cce",
   "metadata": {},
   "outputs": [
    {
     "name": "stdout",
     "output_type": "stream",
     "text": [
      "761\n",
      "[Int64Index([96], dtype='int64'), Int64Index([1536], dtype='int64'), Int64Index([2616], dtype='int64'), Int64Index([4056], dtype='int64'), Int64Index([5856], dtype='int64'), Int64Index([6936], dtype='int64'), Int64Index([8376], dtype='int64'), Int64Index([10609], dtype='int64'), Int64Index([10609], dtype='int64'), Int64Index([11329], dtype='int64'), Int64Index([17449], dtype='int64'), Int64Index([17666], dtype='int64'), Int64Index([18386], dtype='int64'), Int64Index([22346], dtype='int64'), Int64Index([24146], dtype='int64'), Int64Index([25586], dtype='int64'), Int64Index([26667], dtype='int64'), Int64Index([27387], dtype='int64'), Int64Index([28467], dtype='int64'), Int64Index([30987], dtype='int64'), Int64Index([32067], dtype='int64'), Int64Index([33147], dtype='int64'), Int64Index([35236], dtype='int64'), Int64Index([36316], dtype='int64'), Int64Index([37396], dtype='int64'), Int64Index([39196], dtype='int64'), Int64Index([40996], dtype='int64'), Int64Index([41716], dtype='int64'), Int64Index([42796], dtype='int64'), Int64Index([53118], dtype='int64'), Int64Index([53118], dtype='int64'), Int64Index([53478], dtype='int64'), Int64Index([55278], dtype='int64'), Int64Index([55638], dtype='int64'), Int64Index([55998], dtype='int64'), Int64Index([57078], dtype='int64'), Int64Index([58878], dtype='int64'), Int64Index([59598], dtype='int64'), Int64Index([61038], dtype='int64'), Int64Index([62887], dtype='int64'), Int64Index([63247], dtype='int64'), Int64Index([63967], dtype='int64'), Int64Index([66487], dtype='int64'), Int64Index([68287], dtype='int64'), Int64Index([71576], dtype='int64'), Int64Index([74096], dtype='int64'), Int64Index([74456], dtype='int64'), Int64Index([74816], dtype='int64'), Int64Index([75896], dtype='int64'), Int64Index([76256], dtype='int64'), Int64Index([76976], dtype='int64'), Int64Index([77696], dtype='int64'), Int64Index([78416], dtype='int64'), Int64Index([79281], dtype='int64'), Int64Index([81081], dtype='int64'), Int64Index([82161], dtype='int64'), Int64Index([82521], dtype='int64'), Int64Index([82881], dtype='int64'), Int64Index([88066], dtype='int64'), Int64Index([88786], dtype='int64'), Int64Index([90226], dtype='int64'), Int64Index([90226], dtype='int64'), Int64Index([94186], dtype='int64'), Int64Index([95986], dtype='int64'), Int64Index([96515], dtype='int64'), Int64Index([96515], dtype='int64'), Int64Index([98315], dtype='int64'), Int64Index([100835], dtype='int64'), Int64Index([102275], dtype='int64'), Int64Index([102995], dtype='int64'), Int64Index([107532], dtype='int64'), Int64Index([107532], dtype='int64'), Int64Index([108972], dtype='int64'), Int64Index([109332], dtype='int64'), Int64Index([109692], dtype='int64'), Int64Index([110412], dtype='int64'), Int64Index([110772], dtype='int64'), Int64Index([110772], dtype='int64'), Int64Index([111492], dtype='int64'), Int64Index([112212], dtype='int64'), Int64Index([113292], dtype='int64'), Int64Index([113652], dtype='int64'), Int64Index([113652], dtype='int64'), Int64Index([114613], dtype='int64'), Int64Index([115333], dtype='int64'), Int64Index([118573], dtype='int64'), Int64Index([118933], dtype='int64'), Int64Index([123110], dtype='int64'), Int64Index([123110], dtype='int64'), Int64Index([126350], dtype='int64'), Int64Index([127790], dtype='int64'), Int64Index([129950], dtype='int64'), Int64Index([129950], dtype='int64'), Int64Index([131390], dtype='int64'), Int64Index([131436], dtype='int64'), Int64Index([131436], dtype='int64'), Int64Index([131799], dtype='int64'), Int64Index([132879], dtype='int64'), Int64Index([133599], dtype='int64'), Int64Index([134679], dtype='int64'), Int64Index([135039], dtype='int64'), Int64Index([135399], dtype='int64'), Int64Index([135759], dtype='int64'), Int64Index([135759], dtype='int64'), Int64Index([136839], dtype='int64'), Int64Index([138279], dtype='int64'), Int64Index([139359], dtype='int64'), Int64Index([140197], dtype='int64'), Int64Index([140536], dtype='int64'), Int64Index([141256], dtype='int64'), Int64Index([141976], dtype='int64'), Int64Index([142336], dtype='int64'), Int64Index([142336], dtype='int64'), Int64Index([143416], dtype='int64'), Int64Index([144136], dtype='int64'), Int64Index([144856], dtype='int64'), Int64Index([145216], dtype='int64'), Int64Index([145936], dtype='int64'), Int64Index([147376], dtype='int64'), Int64Index([147376], dtype='int64'), Int64Index([148096], dtype='int64'), Int64Index([148816], dtype='int64'), Int64Index([149633], dtype='int64'), Int64Index([151073], dtype='int64'), Int64Index([152153], dtype='int64'), Int64Index([153233], dtype='int64'), Int64Index([153953], dtype='int64'), Int64Index([154673], dtype='int64'), Int64Index([155033], dtype='int64'), Int64Index([156113], dtype='int64'), Int64Index([157986], dtype='int64'), Int64Index([159066], dtype='int64'), Int64Index([160146], dtype='int64'), Int64Index([161946], dtype='int64'), Int64Index([163746], dtype='int64'), Int64Index([165546], dtype='int64'), Int64Index([165906], dtype='int64'), Int64Index([166531], dtype='int64'), Int64Index([166891], dtype='int64'), Int64Index([167251], dtype='int64'), Int64Index([168331], dtype='int64'), Int64Index([168691], dtype='int64'), Int64Index([169051], dtype='int64'), Int64Index([171211], dtype='int64'), Int64Index([171931], dtype='int64'), Int64Index([173011], dtype='int64'), Int64Index([173731], dtype='int64'), Int64Index([174091], dtype='int64'), Int64Index([174811], dtype='int64'), Int64Index([175171], dtype='int64'), Int64Index([175748], dtype='int64'), Int64Index([177548], dtype='int64'), Int64Index([178268], dtype='int64'), Int64Index([180428], dtype='int64'), Int64Index([180428], dtype='int64'), Int64Index([181148], dtype='int64'), Int64Index([181508], dtype='int64'), Int64Index([181868], dtype='int64'), Int64Index([182588], dtype='int64'), Int64Index([183308], dtype='int64'), Int64Index([183668], dtype='int64'), Int64Index([184002], dtype='int64'), Int64Index([184845], dtype='int64'), Int64Index([185925], dtype='int64'), Int64Index([185925], dtype='int64'), Int64Index([186285], dtype='int64'), Int64Index([186645], dtype='int64'), Int64Index([187365], dtype='int64'), Int64Index([187365], dtype='int64'), Int64Index([188085], dtype='int64'), Int64Index([188445], dtype='int64'), Int64Index([189165], dtype='int64'), Int64Index([189525], dtype='int64'), Int64Index([190245], dtype='int64'), Int64Index([191325], dtype='int64'), Int64Index([191685], dtype='int64'), Int64Index([192838], dtype='int64'), Int64Index([193198], dtype='int64'), Int64Index([194638], dtype='int64'), Int64Index([194998], dtype='int64'), Int64Index([196438], dtype='int64'), Int64Index([197518], dtype='int64'), Int64Index([197878], dtype='int64'), Int64Index([198598], dtype='int64'), Int64Index([199318], dtype='int64'), Int64Index([199678], dtype='int64'), Int64Index([200398], dtype='int64'), Int64Index([201118], dtype='int64'), Int64Index([201527], dtype='int64'), Int64Index([202607], dtype='int64'), Int64Index([203687], dtype='int64'), Int64Index([204047], dtype='int64'), Int64Index([205847], dtype='int64'), Int64Index([206567], dtype='int64'), Int64Index([208007], dtype='int64'), Int64Index([208367], dtype='int64'), Int64Index([209087], dtype='int64'), Int64Index([209447], dtype='int64'), Int64Index([211776], dtype='int64'), Int64Index([213216], dtype='int64'), Int64Index([213936], dtype='int64'), Int64Index([213936], dtype='int64'), Int64Index([215736], dtype='int64'), Int64Index([215736], dtype='int64'), Int64Index([217536], dtype='int64'), Int64Index([218256], dtype='int64'), Int64Index([221305], dtype='int64'), Int64Index([224545], dtype='int64'), Int64Index([224905], dtype='int64'), Int64Index([225985], dtype='int64'), Int64Index([226345], dtype='int64'), Int64Index([226705], dtype='int64'), Int64Index([228002], dtype='int64'), Int64Index([228362], dtype='int64'), Int64Index([229082], dtype='int64'), Int64Index([238347], dtype='int64'), Int64Index([239427], dtype='int64'), Int64Index([240507], dtype='int64'), Int64Index([241947], dtype='int64'), Int64Index([245187], dtype='int64'), Int64Index([246772], dtype='int64'), Int64Index([253252], dtype='int64'), Int64Index([254261], dtype='int64'), Int64Index([256061], dtype='int64'), Int64Index([259301], dtype='int64'), Int64Index([259301], dtype='int64'), Int64Index([262181], dtype='int64'), Int64Index([264774], dtype='int64'), Int64Index([266214], dtype='int64'), Int64Index([267294], dtype='int64'), Int64Index([268734], dtype='int64'), Int64Index([269814], dtype='int64'), Int64Index([270534], dtype='int64'), Int64Index([270534], dtype='int64'), Int64Index([271807], dtype='int64'), Int64Index([272527], dtype='int64'), Int64Index([273247], dtype='int64'), Int64Index([273967], dtype='int64'), Int64Index([274687], dtype='int64'), Int64Index([275767], dtype='int64'), Int64Index([275767], dtype='int64'), Int64Index([276847], dtype='int64'), Int64Index([277927], dtype='int64'), Int64Index([279007], dtype='int64'), Int64Index([281072], dtype='int64'), Int64Index([281072], dtype='int64'), Int64Index([282512], dtype='int64'), Int64Index([283232], dtype='int64'), Int64Index([283952], dtype='int64'), Int64Index([284312], dtype='int64'), Int64Index([286112], dtype='int64'), Int64Index([286832], dtype='int64'), Int64Index([288272], dtype='int64'), Int64Index([291633], dtype='int64'), Int64Index([296313], dtype='int64'), Int64Index([296673], dtype='int64'), Int64Index([297895], dtype='int64'), Int64Index([297994], dtype='int64'), Int64Index([298714], dtype='int64'), Int64Index([299794], dtype='int64'), Int64Index([300154], dtype='int64'), Int64Index([300874], dtype='int64'), Int64Index([301234], dtype='int64'), Int64Index([302674], dtype='int64'), Int64Index([303034], dtype='int64'), Int64Index([304114], dtype='int64'), Int64Index([304114], dtype='int64'), Int64Index([307859], dtype='int64'), Int64Index([310379], dtype='int64'), Int64Index([310739], dtype='int64'), Int64Index([312539], dtype='int64'), Int64Index([315468], dtype='int64'), Int64Index([316188], dtype='int64'), Int64Index([317988], dtype='int64'), Int64Index([318708], dtype='int64'), Int64Index([319068], dtype='int64'), Int64Index([319428], dtype='int64'), Int64Index([319788], dtype='int64'), Int64Index([320148], dtype='int64'), Int64Index([320868], dtype='int64'), Int64Index([321588], dtype='int64'), Int64Index([321948], dtype='int64'), Int64Index([323028], dtype='int64'), Int64Index([323388], dtype='int64'), Int64Index([323748], dtype='int64'), Int64Index([324541], dtype='int64'), Int64Index([326341], dtype='int64'), Int64Index([326701], dtype='int64'), Int64Index([328501], dtype='int64'), Int64Index([329941], dtype='int64'), Int64Index([332461], dtype='int64'), Int64Index([332461], dtype='int64'), Int64Index([335078], dtype='int64'), Int64Index([337958], dtype='int64'), Int64Index([339758], dtype='int64'), Int64Index([341558], dtype='int64'), Int64Index([341751], dtype='int64'), Int64Index([342831], dtype='int64'), Int64Index([343911], dtype='int64'), Int64Index([345351], dtype='int64'), Int64Index([345711], dtype='int64'), Int64Index([346071], dtype='int64'), Int64Index([347151], dtype='int64'), Int64Index([349671], dtype='int64'), Int64Index([350031], dtype='int64'), Int64Index([351184], dtype='int64'), Int64Index([353344], dtype='int64'), Int64Index([357664], dtype='int64'), Int64Index([359681], dtype='int64'), Int64Index([361481], dtype='int64'), Int64Index([362201], dtype='int64'), Int64Index([362921], dtype='int64'), Int64Index([363281], dtype='int64'), Int64Index([364721], dtype='int64'), Int64Index([365441], dtype='int64'), Int64Index([366881], dtype='int64'), Int64Index([367601], dtype='int64'), Int64Index([368802], dtype='int64'), Int64Index([369162], dtype='int64'), Int64Index([369882], dtype='int64'), Int64Index([371322], dtype='int64'), Int64Index([371682], dtype='int64'), Int64Index([372762], dtype='int64'), Int64Index([373122], dtype='int64'), Int64Index([374562], dtype='int64'), Int64Index([375282], dtype='int64'), Int64Index([375642], dtype='int64'), Int64Index([378499], dtype='int64'), Int64Index([380659], dtype='int64'), Int64Index([381739], dtype='int64'), Int64Index([382459], dtype='int64'), Int64Index([385505], dtype='int64'), Int64Index([385988], dtype='int64'), Int64Index([386708], dtype='int64'), Int64Index([388868], dtype='int64'), Int64Index([390308], dtype='int64'), Int64Index([392468], dtype='int64'), Int64Index([392828], dtype='int64'), Int64Index([395493], dtype='int64'), Int64Index([401973], dtype='int64'), Int64Index([403558], dtype='int64'), Int64Index([404998], dtype='int64'), Int64Index([405358], dtype='int64'), Int64Index([407158], dtype='int64'), Int64Index([407518], dtype='int64'), Int64Index([408238], dtype='int64'), Int64Index([409318], dtype='int64'), Int64Index([410038], dtype='int64'), Int64Index([410758], dtype='int64'), Int64Index([411478], dtype='int64'), Int64Index([412007], dtype='int64'), Int64Index([413447], dtype='int64'), Int64Index([414887], dtype='int64'), Int64Index([416327], dtype='int64'), Int64Index([416687], dtype='int64'), Int64Index([417767], dtype='int64'), Int64Index([419207], dtype='int64'), Int64Index([421944], dtype='int64'), Int64Index([422304], dtype='int64'), Int64Index([423024], dtype='int64'), Int64Index([423744], dtype='int64'), Int64Index([425184], dtype='int64'), Int64Index([425544], dtype='int64'), Int64Index([426624], dtype='int64'), Int64Index([426624], dtype='int64'), Int64Index([427344], dtype='int64'), Int64Index([428064], dtype='int64'), Int64Index([428424], dtype='int64'), Int64Index([429144], dtype='int64'), Int64Index([429985], dtype='int64'), Int64Index([432145], dtype='int64'), Int64Index([435385], dtype='int64'), Int64Index([436105], dtype='int64'), Int64Index([438071], dtype='int64'), Int64Index([439490], dtype='int64'), Int64Index([440210], dtype='int64'), Int64Index([441650], dtype='int64'), Int64Index([442370], dtype='int64'), Int64Index([442730], dtype='int64'), Int64Index([444170], dtype='int64'), Int64Index([444530], dtype='int64'), Int64Index([445970], dtype='int64'), Int64Index([446330], dtype='int64'), Int64Index([447243], dtype='int64'), Int64Index([447243], dtype='int64'), Int64Index([451563], dtype='int64'), Int64Index([451923], dtype='int64'), Int64Index([454083], dtype='int64'), Int64Index([454083], dtype='int64'), Int64Index([455523], dtype='int64'), Int64Index([457660], dtype='int64'), Int64Index([458740], dtype='int64'), Int64Index([460180], dtype='int64'), Int64Index([462340], dtype='int64'), Int64Index([463060], dtype='int64'), Int64Index([463780], dtype='int64'), Int64Index([464669], dtype='int64'), Int64Index([466469], dtype='int64'), Int64Index([467189], dtype='int64'), Int64Index([468629], dtype='int64'), Int64Index([472949], dtype='int64'), Int64Index([474654], dtype='int64'), Int64Index([475734], dtype='int64'), Int64Index([476814], dtype='int64'), Int64Index([477174], dtype='int64'), Int64Index([478254], dtype='int64'), Int64Index([478614], dtype='int64'), Int64Index([478974], dtype='int64'), Int64Index([481134], dtype='int64'), Int64Index([481876], dtype='int64'), Int64Index([482167], dtype='int64'), Int64Index([483607], dtype='int64'), Int64Index([484327], dtype='int64'), Int64Index([484687], dtype='int64'), Int64Index([485767], dtype='int64'), Int64Index([488287], dtype='int64'), Int64Index([488287], dtype='int64'), Int64Index([489367], dtype='int64'), Int64Index([489727], dtype='int64'), Int64Index([490447], dtype='int64'), Int64Index([491504], dtype='int64'), Int64Index([497984], dtype='int64'), Int64Index([499398], dtype='int64'), Int64Index([500097], dtype='int64'), Int64Index([502257], dtype='int64'), Int64Index([502617], dtype='int64'), Int64Index([502977], dtype='int64'), Int64Index([504417], dtype='int64'), Int64Index([505857], dtype='int64'), Int64Index([507657], dtype='int64'), Int64Index([508159], dtype='int64'), Int64Index([508954], dtype='int64'), Int64Index([510394], dtype='int64'), Int64Index([511474], dtype='int64'), Int64Index([512914], dtype='int64'), Int64Index([513274], dtype='int64'), Int64Index([513634], dtype='int64'), Int64Index([515074], dtype='int64'), Int64Index([517595], dtype='int64'), Int64Index([519395], dtype='int64'), Int64Index([521915], dtype='int64'), Int64Index([522995], dtype='int64'), Int64Index([527028], dtype='int64'), Int64Index([530988], dtype='int64'), Int64Index([532788], dtype='int64'), Int64Index([533508], dtype='int64'), Int64Index([534709], dtype='int64'), Int64Index([535069], dtype='int64'), Int64Index([537949], dtype='int64'), Int64Index([538669], dtype='int64'), Int64Index([539749], dtype='int64'), Int64Index([542629], dtype='int64'), Int64Index([542989], dtype='int64'), Int64Index([543830], dtype='int64'), Int64Index([543830], dtype='int64'), Int64Index([544910], dtype='int64'), Int64Index([546350], dtype='int64'), Int64Index([546710], dtype='int64'), Int64Index([548150], dtype='int64'), Int64Index([550310], dtype='int64'), Int64Index([550670], dtype='int64'), Int64Index([552039], dtype='int64'), Int64Index([552399], dtype='int64'), Int64Index([553119], dtype='int64'), Int64Index([554199], dtype='int64'), Int64Index([554919], dtype='int64'), Int64Index([558159], dtype='int64'), Int64Index([558879], dtype='int64'), Int64Index([560679], dtype='int64'), Int64Index([562504], dtype='int64'), Int64Index([564304], dtype='int64'), Int64Index([565024], dtype='int64'), Int64Index([566104], dtype='int64'), Int64Index([566104], dtype='int64'), Int64Index([566824], dtype='int64'), Int64Index([570617], dtype='int64'), Int64Index([572777], dtype='int64'), Int64Index([572777], dtype='int64'), Int64Index([576017], dtype='int64'), Int64Index([577817], dtype='int64'), Int64Index([578586], dtype='int64'), Int64Index([580026], dtype='int64'), Int64Index([581826], dtype='int64'), Int64Index([582186], dtype='int64'), Int64Index([582906], dtype='int64'), Int64Index([583986], dtype='int64'), Int64Index([584346], dtype='int64'), Int64Index([584706], dtype='int64'), Int64Index([585066], dtype='int64'), Int64Index([589171], dtype='int64'), Int64Index([592411], dtype='int64'), Int64Index([594931], dtype='int64'), Int64Index([595291], dtype='int64'), Int64Index([595844], dtype='int64'), Int64Index([596204], dtype='int64'), Int64Index([596564], dtype='int64'), Int64Index([598364], dtype='int64'), Int64Index([599084], dtype='int64'), Int64Index([600884], dtype='int64'), Int64Index([601244], dtype='int64'), Int64Index([601604], dtype='int64'), Int64Index([602684], dtype='int64'), Int64Index([603044], dtype='int64'), Int64Index([605157], dtype='int64'), Int64Index([608037], dtype='int64'), Int64Index([609117], dtype='int64'), Int64Index([611997], dtype='int64'), Int64Index([612717], dtype='int64'), Int64Index([613510], dtype='int64'), Int64Index([613870], dtype='int64'), Int64Index([613870], dtype='int64'), Int64Index([614230], dtype='int64'), Int64Index([614590], dtype='int64'), Int64Index([614950], dtype='int64'), Int64Index([615310], dtype='int64'), Int64Index([616030], dtype='int64'), Int64Index([617110], dtype='int64'), Int64Index([617470], dtype='int64'), Int64Index([618190], dtype='int64'), Int64Index([619630], dtype='int64'), Int64Index([619990], dtype='int64'), Int64Index([623999], dtype='int64'), Int64Index([627959], dtype='int64'), Int64Index([630813], dtype='int64'), Int64Index([630816], dtype='int64'), Int64Index([631896], dtype='int64'), Int64Index([632976], dtype='int64'), Int64Index([633336], dtype='int64'), Int64Index([633696], dtype='int64'), Int64Index([634056], dtype='int64'), Int64Index([635496], dtype='int64'), Int64Index([636576], dtype='int64'), Int64Index([636936], dtype='int64'), Int64Index([638376], dtype='int64'), Int64Index([638736], dtype='int64'), Int64Index([640081], dtype='int64'), Int64Index([641161], dtype='int64'), Int64Index([642601], dtype='int64'), Int64Index([643681], dtype='int64'), Int64Index([644401], dtype='int64'), Int64Index([646561], dtype='int64'), Int64Index([648458], dtype='int64'), Int64Index([649178], dtype='int64'), Int64Index([650618], dtype='int64'), Int64Index([651338], dtype='int64'), Int64Index([652058], dtype='int64'), Int64Index([653138], dtype='int64'), Int64Index([653858], dtype='int64'), Int64Index([654218], dtype='int64'), Int64Index([655298], dtype='int64'), Int64Index([657483], dtype='int64'), Int64Index([657843], dtype='int64'), Int64Index([658563], dtype='int64'), Int64Index([658923], dtype='int64'), Int64Index([659283], dtype='int64'), Int64Index([660003], dtype='int64'), Int64Index([662523], dtype='int64'), Int64Index([663603], dtype='int64'), Int64Index([665043], dtype='int64'), Int64Index([675437], dtype='int64'), Int64Index([675797], dtype='int64'), Int64Index([676157], dtype='int64'), Int64Index([678317], dtype='int64'), Int64Index([679037], dtype='int64'), Int64Index([679397], dtype='int64'), Int64Index([680477], dtype='int64'), Int64Index([681917], dtype='int64'), Int64Index([682997], dtype='int64'), Int64Index([683379], dtype='int64'), Int64Index([684822], dtype='int64'), Int64Index([685182], dtype='int64'), Int64Index([685542], dtype='int64'), Int64Index([686622], dtype='int64'), Int64Index([687342], dtype='int64'), Int64Index([687702], dtype='int64'), Int64Index([689502], dtype='int64'), Int64Index([689862], dtype='int64'), Int64Index([691662], dtype='int64'), Int64Index([692140], dtype='int64'), Int64Index([696727], dtype='int64'), Int64Index([698167], dtype='int64'), Int64Index([699607], dtype='int64'), Int64Index([700327], dtype='int64'), Int64Index([700904], dtype='int64'), Int64Index([701264], dtype='int64'), Int64Index([701984], dtype='int64'), Int64Index([702344], dtype='int64'), Int64Index([703424], dtype='int64'), Int64Index([704864], dtype='int64'), Int64Index([707744], dtype='int64'), Int64Index([709184], dtype='int64'), Int64Index([710289], dtype='int64'), Int64Index([711729], dtype='int64'), Int64Index([712809], dtype='int64'), Int64Index([717849], dtype='int64'), Int64Index([718423], dtype='int64'), Int64Index([718762], dtype='int64'), Int64Index([720202], dtype='int64'), Int64Index([721642], dtype='int64'), Int64Index([722002], dtype='int64'), Int64Index([723082], dtype='int64'), Int64Index([723082], dtype='int64'), Int64Index([723802], dtype='int64'), Int64Index([724162], dtype='int64'), Int64Index([724522], dtype='int64'), Int64Index([725242], dtype='int64'), Int64Index([726322], dtype='int64'), Int64Index([727042], dtype='int64'), Int64Index([727042], dtype='int64'), Int64Index([727259], dtype='int64'), Int64Index([727979], dtype='int64'), Int64Index([728339], dtype='int64'), Int64Index([729419], dtype='int64'), Int64Index([731579], dtype='int64'), Int64Index([733019], dtype='int64'), Int64Index([733739], dtype='int64'), Int64Index([736260], dtype='int64'), Int64Index([736620], dtype='int64'), Int64Index([736980], dtype='int64'), Int64Index([739500], dtype='int64'), Int64Index([740220], dtype='int64'), Int64Index([741660], dtype='int64'), Int64Index([742020], dtype='int64'), Int64Index([742740], dtype='int64'), Int64Index([743460], dtype='int64'), Int64Index([744180], dtype='int64'), Int64Index([744540], dtype='int64'), Int64Index([744706], dtype='int64'), Int64Index([745213], dtype='int64'), Int64Index([750613], dtype='int64'), Int64Index([752413], dtype='int64'), Int64Index([753467], dtype='int64'), Int64Index([755150], dtype='int64'), Int64Index([755510], dtype='int64'), Int64Index([756230], dtype='int64'), Int64Index([757670], dtype='int64'), Int64Index([758750], dtype='int64'), Int64Index([759110], dtype='int64'), Int64Index([760550], dtype='int64'), Int64Index([761990], dtype='int64'), Int64Index([762639], dtype='int64'), Int64Index([762999], dtype='int64'), Int64Index([763719], dtype='int64'), Int64Index([764439], dtype='int64'), Int64Index([766599], dtype='int64'), Int64Index([768039], dtype='int64'), Int64Index([768039], dtype='int64'), Int64Index([770199], dtype='int64'), Int64Index([770199], dtype='int64'), Int64Index([770919], dtype='int64'), Int64Index([771856], dtype='int64'), Int64Index([772936], dtype='int64'), Int64Index([774376], dtype='int64'), Int64Index([775096], dtype='int64'), Int64Index([775816], dtype='int64'), Int64Index([776536], dtype='int64'), Int64Index([778696], dtype='int64'), Int64Index([780185], dtype='int64'), Int64Index([780905], dtype='int64'), Int64Index([781625], dtype='int64'), Int64Index([781985], dtype='int64'), Int64Index([783065], dtype='int64'), Int64Index([783425], dtype='int64'), Int64Index([785225], dtype='int64'), Int64Index([785225], dtype='int64'), Int64Index([786305], dtype='int64'), Int64Index([787025], dtype='int64'), Int64Index([787745], dtype='int64'), Int64Index([788465], dtype='int64'), Int64Index([789234], dtype='int64'), Int64Index([790674], dtype='int64'), Int64Index([792474], dtype='int64'), Int64Index([792834], dtype='int64'), Int64Index([794634], dtype='int64'), Int64Index([795714], dtype='int64'), Int64Index([798427], dtype='int64'), Int64Index([799867], dtype='int64'), Int64Index([799867], dtype='int64'), Int64Index([800587], dtype='int64'), Int64Index([801667], dtype='int64'), Int64Index([802747], dtype='int64'), Int64Index([803107], dtype='int64'), Int64Index([803827], dtype='int64'), Int64Index([805267], dtype='int64'), Int64Index([807812], dtype='int64'), Int64Index([808172], dtype='int64'), Int64Index([808532], dtype='int64'), Int64Index([808892], dtype='int64'), Int64Index([809252], dtype='int64'), Int64Index([810332], dtype='int64'), Int64Index([814794], dtype='int64'), Int64Index([814941], dtype='int64'), Int64Index([816021], dtype='int64'), Int64Index([816381], dtype='int64'), Int64Index([817821], dtype='int64'), Int64Index([818181], dtype='int64'), Int64Index([820341], dtype='int64'), Int64Index([821781], dtype='int64'), Int64Index([822501], dtype='int64'), Int64Index([822501], dtype='int64'), Int64Index([823221], dtype='int64'), Int64Index([824710], dtype='int64'), Int64Index([825430], dtype='int64'), Int64Index([826150], dtype='int64'), Int64Index([826510], dtype='int64'), Int64Index([827230], dtype='int64'), Int64Index([829030], dtype='int64'), Int64Index([829750], dtype='int64'), Int64Index([830470], dtype='int64'), Int64Index([832270], dtype='int64'), Int64Index([833423], dtype='int64'), Int64Index([835223], dtype='int64'), Int64Index([837023], dtype='int64'), Int64Index([838103], dtype='int64'), Int64Index([840983], dtype='int64'), Int64Index([841608], dtype='int64'), Int64Index([841608], dtype='int64'), Int64Index([844128], dtype='int64'), Int64Index([845568], dtype='int64'), Int64Index([845928], dtype='int64'), Int64Index([847008], dtype='int64'), Int64Index([848088], dtype='int64'), Int64Index([848808], dtype='int64'), Int64Index([850513], dtype='int64'), Int64Index([850873], dtype='int64'), Int64Index([851233], dtype='int64'), Int64Index([852313], dtype='int64'), Int64Index([852673], dtype='int64'), Int64Index([852673], dtype='int64'), Int64Index([853033], dtype='int64'), Int64Index([853393], dtype='int64'), Int64Index([853753], dtype='int64'), Int64Index([854113], dtype='int64'), Int64Index([854113], dtype='int64'), Int64Index([854833], dtype='int64'), Int64Index([855193], dtype='int64'), Int64Index([855553], dtype='int64'), Int64Index([856993], dtype='int64'), Int64Index([857713], dtype='int64'), Int64Index([858599], dtype='int64'), Int64Index([858986], dtype='int64'), Int64Index([859346], dtype='int64'), Int64Index([859706], dtype='int64'), Int64Index([860066], dtype='int64'), Int64Index([860426], dtype='int64'), Int64Index([860786], dtype='int64'), Int64Index([861146], dtype='int64'), Int64Index([861506], dtype='int64'), Int64Index([861866], dtype='int64'), Int64Index([862226], dtype='int64'), Int64Index([862946], dtype='int64'), Int64Index([863306], dtype='int64'), Int64Index([863666], dtype='int64'), Int64Index([864386], dtype='int64'), Int64Index([865466], dtype='int64'), Int64Index([865826], dtype='int64'), Int64Index([866546], dtype='int64'), Int64Index([866906], dtype='int64'), Int64Index([868347], dtype='int64'), Int64Index([873387], dtype='int64'), Int64Index([875547], dtype='int64')]\n",
      "(876100, 7)\n"
     ]
    }
   ],
   "source": [
    "f1 = failures.copy()\n",
    "telee = tele.copy()\n",
    "\n",
    "# Convert the datetime columns to datetime type\n",
    "telee['datetime'] = pd.to_datetime(telee['datetime'])\n",
    "f1['datetime'] = pd.to_datetime(f1['datetime'])\n",
    "\n",
    "\n",
    "matching_li = []\n",
    " \n",
    "for index, failure_row in f1.iterrows():\n",
    "    # Extract the datetime and machineID values from failures data\n",
    "    failure_datetime = failure_row['datetime']\n",
    "    machine_id = failure_row['machineID']\n",
    "    failure_value = failure_row['failure']\n",
    "\n",
    "    # Find the corresponding row in telemetry data\n",
    "    maching_row = telee[\n",
    "        (telee['datetime'] == failure_datetime) & (telee['machineID'] == machine_id)\n",
    "    ].index\n",
    "    matching_li.append(telee[\n",
    "        (telee['datetime'] == failure_datetime) & (telee['machineID'] == machine_id)\n",
    "    ].index)\n",
    "\n",
    "print(len(matching_row))\n",
    "print(matching_row)\n",
    "print(tele.shape)\n",
    "# Replace with your actual list\n",
    "matching_row_str = [str(item) for item in matching_row]\n",
    "# Alternatively:\n",
    "# matching_row_str = list(map(str, matching_row))\n",
    "\n",
    "print(matching_row_str)"
   ]
  },
  {
   "cell_type": "code",
   "execution_count": 215,
   "id": "68167161",
   "metadata": {},
   "outputs": [
    {
     "name": "stdout",
     "output_type": "stream",
     "text": [
      "Int64Index([96], dtype='int64')\n",
      "Int64Index([1536], dtype='int64')\n",
      "Int64Index([2616], dtype='int64')\n",
      "Int64Index([4056], dtype='int64')\n",
      "Int64Index([5856], dtype='int64')\n",
      "Int64Index([6936], dtype='int64')\n",
      "Int64Index([8376], dtype='int64')\n",
      "Int64Index([10609], dtype='int64')\n",
      "Int64Index([10609], dtype='int64')\n",
      "Int64Index([11329], dtype='int64')\n",
      "Int64Index([17449], dtype='int64')\n",
      "Int64Index([17666], dtype='int64')\n",
      "Int64Index([18386], dtype='int64')\n",
      "Int64Index([22346], dtype='int64')\n",
      "Int64Index([24146], dtype='int64')\n",
      "Int64Index([25586], dtype='int64')\n",
      "Int64Index([26667], dtype='int64')\n",
      "Int64Index([27387], dtype='int64')\n",
      "Int64Index([28467], dtype='int64')\n",
      "Int64Index([30987], dtype='int64')\n",
      "Int64Index([32067], dtype='int64')\n",
      "Int64Index([33147], dtype='int64')\n",
      "Int64Index([35236], dtype='int64')\n",
      "Int64Index([36316], dtype='int64')\n",
      "Int64Index([37396], dtype='int64')\n",
      "Int64Index([39196], dtype='int64')\n",
      "Int64Index([40996], dtype='int64')\n",
      "Int64Index([41716], dtype='int64')\n",
      "Int64Index([42796], dtype='int64')\n",
      "Int64Index([53118], dtype='int64')\n",
      "Int64Index([53118], dtype='int64')\n",
      "Int64Index([53478], dtype='int64')\n",
      "Int64Index([55278], dtype='int64')\n",
      "Int64Index([55638], dtype='int64')\n",
      "Int64Index([55998], dtype='int64')\n",
      "Int64Index([57078], dtype='int64')\n",
      "Int64Index([58878], dtype='int64')\n",
      "Int64Index([59598], dtype='int64')\n",
      "Int64Index([61038], dtype='int64')\n",
      "Int64Index([62887], dtype='int64')\n",
      "Int64Index([63247], dtype='int64')\n",
      "Int64Index([63967], dtype='int64')\n",
      "Int64Index([66487], dtype='int64')\n",
      "Int64Index([68287], dtype='int64')\n",
      "Int64Index([71576], dtype='int64')\n",
      "Int64Index([74096], dtype='int64')\n",
      "Int64Index([74456], dtype='int64')\n",
      "Int64Index([74816], dtype='int64')\n",
      "Int64Index([75896], dtype='int64')\n",
      "Int64Index([76256], dtype='int64')\n",
      "Int64Index([76976], dtype='int64')\n",
      "Int64Index([77696], dtype='int64')\n",
      "Int64Index([78416], dtype='int64')\n",
      "Int64Index([79281], dtype='int64')\n",
      "Int64Index([81081], dtype='int64')\n",
      "Int64Index([82161], dtype='int64')\n",
      "Int64Index([82521], dtype='int64')\n",
      "Int64Index([82881], dtype='int64')\n",
      "Int64Index([88066], dtype='int64')\n",
      "Int64Index([88786], dtype='int64')\n",
      "Int64Index([90226], dtype='int64')\n",
      "Int64Index([90226], dtype='int64')\n",
      "Int64Index([94186], dtype='int64')\n",
      "Int64Index([95986], dtype='int64')\n",
      "Int64Index([96515], dtype='int64')\n",
      "Int64Index([96515], dtype='int64')\n",
      "Int64Index([98315], dtype='int64')\n",
      "Int64Index([100835], dtype='int64')\n",
      "Int64Index([102275], dtype='int64')\n",
      "Int64Index([102995], dtype='int64')\n",
      "Int64Index([107532], dtype='int64')\n",
      "Int64Index([107532], dtype='int64')\n",
      "Int64Index([108972], dtype='int64')\n",
      "Int64Index([109332], dtype='int64')\n",
      "Int64Index([109692], dtype='int64')\n",
      "Int64Index([110412], dtype='int64')\n",
      "Int64Index([110772], dtype='int64')\n",
      "Int64Index([110772], dtype='int64')\n",
      "Int64Index([111492], dtype='int64')\n",
      "Int64Index([112212], dtype='int64')\n",
      "Int64Index([113292], dtype='int64')\n",
      "Int64Index([113652], dtype='int64')\n",
      "Int64Index([113652], dtype='int64')\n",
      "Int64Index([114613], dtype='int64')\n",
      "Int64Index([115333], dtype='int64')\n",
      "Int64Index([118573], dtype='int64')\n",
      "Int64Index([118933], dtype='int64')\n",
      "Int64Index([123110], dtype='int64')\n",
      "Int64Index([123110], dtype='int64')\n",
      "Int64Index([126350], dtype='int64')\n",
      "Int64Index([127790], dtype='int64')\n",
      "Int64Index([129950], dtype='int64')\n",
      "Int64Index([129950], dtype='int64')\n",
      "Int64Index([131390], dtype='int64')\n",
      "Int64Index([131436], dtype='int64')\n",
      "Int64Index([131436], dtype='int64')\n",
      "Int64Index([131799], dtype='int64')\n",
      "Int64Index([132879], dtype='int64')\n",
      "Int64Index([133599], dtype='int64')\n",
      "Int64Index([134679], dtype='int64')\n",
      "Int64Index([135039], dtype='int64')\n",
      "Int64Index([135399], dtype='int64')\n",
      "Int64Index([135759], dtype='int64')\n",
      "Int64Index([135759], dtype='int64')\n",
      "Int64Index([136839], dtype='int64')\n",
      "Int64Index([138279], dtype='int64')\n",
      "Int64Index([139359], dtype='int64')\n",
      "Int64Index([140197], dtype='int64')\n",
      "Int64Index([140536], dtype='int64')\n",
      "Int64Index([141256], dtype='int64')\n",
      "Int64Index([141976], dtype='int64')\n",
      "Int64Index([142336], dtype='int64')\n",
      "Int64Index([142336], dtype='int64')\n",
      "Int64Index([143416], dtype='int64')\n",
      "Int64Index([144136], dtype='int64')\n",
      "Int64Index([144856], dtype='int64')\n",
      "Int64Index([145216], dtype='int64')\n",
      "Int64Index([145936], dtype='int64')\n",
      "Int64Index([147376], dtype='int64')\n",
      "Int64Index([147376], dtype='int64')\n",
      "Int64Index([148096], dtype='int64')\n",
      "Int64Index([148816], dtype='int64')\n",
      "Int64Index([149633], dtype='int64')\n",
      "Int64Index([151073], dtype='int64')\n",
      "Int64Index([152153], dtype='int64')\n",
      "Int64Index([153233], dtype='int64')\n",
      "Int64Index([153953], dtype='int64')\n",
      "Int64Index([154673], dtype='int64')\n",
      "Int64Index([155033], dtype='int64')\n",
      "Int64Index([156113], dtype='int64')\n",
      "Int64Index([157986], dtype='int64')\n",
      "Int64Index([159066], dtype='int64')\n",
      "Int64Index([160146], dtype='int64')\n",
      "Int64Index([161946], dtype='int64')\n",
      "Int64Index([163746], dtype='int64')\n",
      "Int64Index([165546], dtype='int64')\n",
      "Int64Index([165906], dtype='int64')\n",
      "Int64Index([166531], dtype='int64')\n",
      "Int64Index([166891], dtype='int64')\n",
      "Int64Index([167251], dtype='int64')\n",
      "Int64Index([168331], dtype='int64')\n",
      "Int64Index([168691], dtype='int64')\n",
      "Int64Index([169051], dtype='int64')\n",
      "Int64Index([171211], dtype='int64')\n",
      "Int64Index([171931], dtype='int64')\n",
      "Int64Index([173011], dtype='int64')\n",
      "Int64Index([173731], dtype='int64')\n",
      "Int64Index([174091], dtype='int64')\n",
      "Int64Index([174811], dtype='int64')\n",
      "Int64Index([175171], dtype='int64')\n",
      "Int64Index([175748], dtype='int64')\n",
      "Int64Index([177548], dtype='int64')\n",
      "Int64Index([178268], dtype='int64')\n",
      "Int64Index([180428], dtype='int64')\n",
      "Int64Index([180428], dtype='int64')\n",
      "Int64Index([181148], dtype='int64')\n",
      "Int64Index([181508], dtype='int64')\n",
      "Int64Index([181868], dtype='int64')\n",
      "Int64Index([182588], dtype='int64')\n",
      "Int64Index([183308], dtype='int64')\n",
      "Int64Index([183668], dtype='int64')\n",
      "Int64Index([184002], dtype='int64')\n",
      "Int64Index([184845], dtype='int64')\n",
      "Int64Index([185925], dtype='int64')\n",
      "Int64Index([185925], dtype='int64')\n",
      "Int64Index([186285], dtype='int64')\n",
      "Int64Index([186645], dtype='int64')\n",
      "Int64Index([187365], dtype='int64')\n",
      "Int64Index([187365], dtype='int64')\n",
      "Int64Index([188085], dtype='int64')\n",
      "Int64Index([188445], dtype='int64')\n",
      "Int64Index([189165], dtype='int64')\n",
      "Int64Index([189525], dtype='int64')\n",
      "Int64Index([190245], dtype='int64')\n",
      "Int64Index([191325], dtype='int64')\n",
      "Int64Index([191685], dtype='int64')\n",
      "Int64Index([192838], dtype='int64')\n",
      "Int64Index([193198], dtype='int64')\n",
      "Int64Index([194638], dtype='int64')\n",
      "Int64Index([194998], dtype='int64')\n",
      "Int64Index([196438], dtype='int64')\n",
      "Int64Index([197518], dtype='int64')\n",
      "Int64Index([197878], dtype='int64')\n",
      "Int64Index([198598], dtype='int64')\n",
      "Int64Index([199318], dtype='int64')\n",
      "Int64Index([199678], dtype='int64')\n",
      "Int64Index([200398], dtype='int64')\n",
      "Int64Index([201118], dtype='int64')\n",
      "Int64Index([201527], dtype='int64')\n",
      "Int64Index([202607], dtype='int64')\n",
      "Int64Index([203687], dtype='int64')\n",
      "Int64Index([204047], dtype='int64')\n",
      "Int64Index([205847], dtype='int64')\n",
      "Int64Index([206567], dtype='int64')\n",
      "Int64Index([208007], dtype='int64')\n",
      "Int64Index([208367], dtype='int64')\n",
      "Int64Index([209087], dtype='int64')\n",
      "Int64Index([209447], dtype='int64')\n",
      "Int64Index([211776], dtype='int64')\n",
      "Int64Index([213216], dtype='int64')\n",
      "Int64Index([213936], dtype='int64')\n",
      "Int64Index([213936], dtype='int64')\n",
      "Int64Index([215736], dtype='int64')\n",
      "Int64Index([215736], dtype='int64')\n",
      "Int64Index([217536], dtype='int64')\n",
      "Int64Index([218256], dtype='int64')\n",
      "Int64Index([221305], dtype='int64')\n",
      "Int64Index([224545], dtype='int64')\n",
      "Int64Index([224905], dtype='int64')\n",
      "Int64Index([225985], dtype='int64')\n",
      "Int64Index([226345], dtype='int64')\n",
      "Int64Index([226705], dtype='int64')\n",
      "Int64Index([228002], dtype='int64')\n",
      "Int64Index([228362], dtype='int64')\n",
      "Int64Index([229082], dtype='int64')\n",
      "Int64Index([238347], dtype='int64')\n",
      "Int64Index([239427], dtype='int64')\n",
      "Int64Index([240507], dtype='int64')\n",
      "Int64Index([241947], dtype='int64')\n",
      "Int64Index([245187], dtype='int64')\n",
      "Int64Index([246772], dtype='int64')\n",
      "Int64Index([253252], dtype='int64')\n",
      "Int64Index([254261], dtype='int64')\n",
      "Int64Index([256061], dtype='int64')\n",
      "Int64Index([259301], dtype='int64')\n",
      "Int64Index([259301], dtype='int64')\n",
      "Int64Index([262181], dtype='int64')\n",
      "Int64Index([264774], dtype='int64')\n",
      "Int64Index([266214], dtype='int64')\n",
      "Int64Index([267294], dtype='int64')\n",
      "Int64Index([268734], dtype='int64')\n",
      "Int64Index([269814], dtype='int64')\n",
      "Int64Index([270534], dtype='int64')\n",
      "Int64Index([270534], dtype='int64')\n",
      "Int64Index([271807], dtype='int64')\n",
      "Int64Index([272527], dtype='int64')\n",
      "Int64Index([273247], dtype='int64')\n",
      "Int64Index([273967], dtype='int64')\n",
      "Int64Index([274687], dtype='int64')\n",
      "Int64Index([275767], dtype='int64')\n",
      "Int64Index([275767], dtype='int64')\n",
      "Int64Index([276847], dtype='int64')\n",
      "Int64Index([277927], dtype='int64')\n",
      "Int64Index([279007], dtype='int64')\n",
      "Int64Index([281072], dtype='int64')\n",
      "Int64Index([281072], dtype='int64')\n",
      "Int64Index([282512], dtype='int64')\n",
      "Int64Index([283232], dtype='int64')\n",
      "Int64Index([283952], dtype='int64')\n",
      "Int64Index([284312], dtype='int64')\n",
      "Int64Index([286112], dtype='int64')\n",
      "Int64Index([286832], dtype='int64')\n",
      "Int64Index([288272], dtype='int64')\n",
      "Int64Index([291633], dtype='int64')\n",
      "Int64Index([296313], dtype='int64')\n",
      "Int64Index([296673], dtype='int64')\n",
      "Int64Index([297895], dtype='int64')\n",
      "Int64Index([297994], dtype='int64')\n",
      "Int64Index([298714], dtype='int64')\n",
      "Int64Index([299794], dtype='int64')\n",
      "Int64Index([300154], dtype='int64')\n",
      "Int64Index([300874], dtype='int64')\n",
      "Int64Index([301234], dtype='int64')\n",
      "Int64Index([302674], dtype='int64')\n",
      "Int64Index([303034], dtype='int64')\n",
      "Int64Index([304114], dtype='int64')\n",
      "Int64Index([304114], dtype='int64')\n",
      "Int64Index([307859], dtype='int64')\n",
      "Int64Index([310379], dtype='int64')\n",
      "Int64Index([310739], dtype='int64')\n",
      "Int64Index([312539], dtype='int64')\n",
      "Int64Index([315468], dtype='int64')\n",
      "Int64Index([316188], dtype='int64')\n",
      "Int64Index([317988], dtype='int64')\n",
      "Int64Index([318708], dtype='int64')\n",
      "Int64Index([319068], dtype='int64')\n",
      "Int64Index([319428], dtype='int64')\n",
      "Int64Index([319788], dtype='int64')\n",
      "Int64Index([320148], dtype='int64')\n",
      "Int64Index([320868], dtype='int64')\n",
      "Int64Index([321588], dtype='int64')\n",
      "Int64Index([321948], dtype='int64')\n",
      "Int64Index([323028], dtype='int64')\n",
      "Int64Index([323388], dtype='int64')\n",
      "Int64Index([323748], dtype='int64')\n",
      "Int64Index([324541], dtype='int64')\n",
      "Int64Index([326341], dtype='int64')\n",
      "Int64Index([326701], dtype='int64')\n",
      "Int64Index([328501], dtype='int64')\n",
      "Int64Index([329941], dtype='int64')\n",
      "Int64Index([332461], dtype='int64')\n",
      "Int64Index([332461], dtype='int64')\n",
      "Int64Index([335078], dtype='int64')\n",
      "Int64Index([337958], dtype='int64')\n",
      "Int64Index([339758], dtype='int64')\n",
      "Int64Index([341558], dtype='int64')\n",
      "Int64Index([341751], dtype='int64')\n",
      "Int64Index([342831], dtype='int64')\n",
      "Int64Index([343911], dtype='int64')\n",
      "Int64Index([345351], dtype='int64')\n",
      "Int64Index([345711], dtype='int64')\n",
      "Int64Index([346071], dtype='int64')\n",
      "Int64Index([347151], dtype='int64')\n",
      "Int64Index([349671], dtype='int64')\n",
      "Int64Index([350031], dtype='int64')\n",
      "Int64Index([351184], dtype='int64')\n",
      "Int64Index([353344], dtype='int64')\n",
      "Int64Index([357664], dtype='int64')\n",
      "Int64Index([359681], dtype='int64')\n",
      "Int64Index([361481], dtype='int64')\n",
      "Int64Index([362201], dtype='int64')\n",
      "Int64Index([362921], dtype='int64')\n",
      "Int64Index([363281], dtype='int64')\n",
      "Int64Index([364721], dtype='int64')\n",
      "Int64Index([365441], dtype='int64')\n",
      "Int64Index([366881], dtype='int64')\n",
      "Int64Index([367601], dtype='int64')\n",
      "Int64Index([368802], dtype='int64')\n",
      "Int64Index([369162], dtype='int64')\n",
      "Int64Index([369882], dtype='int64')\n",
      "Int64Index([371322], dtype='int64')\n",
      "Int64Index([371682], dtype='int64')\n",
      "Int64Index([372762], dtype='int64')\n",
      "Int64Index([373122], dtype='int64')\n",
      "Int64Index([374562], dtype='int64')\n",
      "Int64Index([375282], dtype='int64')\n",
      "Int64Index([375642], dtype='int64')\n",
      "Int64Index([378499], dtype='int64')\n",
      "Int64Index([380659], dtype='int64')\n",
      "Int64Index([381739], dtype='int64')\n",
      "Int64Index([382459], dtype='int64')\n",
      "Int64Index([385505], dtype='int64')\n",
      "Int64Index([385988], dtype='int64')\n",
      "Int64Index([386708], dtype='int64')\n",
      "Int64Index([388868], dtype='int64')\n",
      "Int64Index([390308], dtype='int64')\n",
      "Int64Index([392468], dtype='int64')\n",
      "Int64Index([392828], dtype='int64')\n",
      "Int64Index([395493], dtype='int64')\n",
      "Int64Index([401973], dtype='int64')\n",
      "Int64Index([403558], dtype='int64')\n",
      "Int64Index([404998], dtype='int64')\n",
      "Int64Index([405358], dtype='int64')\n",
      "Int64Index([407158], dtype='int64')\n",
      "Int64Index([407518], dtype='int64')\n",
      "Int64Index([408238], dtype='int64')\n",
      "Int64Index([409318], dtype='int64')\n",
      "Int64Index([410038], dtype='int64')\n",
      "Int64Index([410758], dtype='int64')\n",
      "Int64Index([411478], dtype='int64')\n",
      "Int64Index([412007], dtype='int64')\n",
      "Int64Index([413447], dtype='int64')\n",
      "Int64Index([414887], dtype='int64')\n",
      "Int64Index([416327], dtype='int64')\n",
      "Int64Index([416687], dtype='int64')\n",
      "Int64Index([417767], dtype='int64')\n",
      "Int64Index([419207], dtype='int64')\n",
      "Int64Index([421944], dtype='int64')\n",
      "Int64Index([422304], dtype='int64')\n",
      "Int64Index([423024], dtype='int64')\n",
      "Int64Index([423744], dtype='int64')\n",
      "Int64Index([425184], dtype='int64')\n",
      "Int64Index([425544], dtype='int64')\n",
      "Int64Index([426624], dtype='int64')\n",
      "Int64Index([426624], dtype='int64')\n",
      "Int64Index([427344], dtype='int64')\n",
      "Int64Index([428064], dtype='int64')\n",
      "Int64Index([428424], dtype='int64')\n",
      "Int64Index([429144], dtype='int64')\n",
      "Int64Index([429985], dtype='int64')\n",
      "Int64Index([432145], dtype='int64')\n",
      "Int64Index([435385], dtype='int64')\n",
      "Int64Index([436105], dtype='int64')\n",
      "Int64Index([438071], dtype='int64')\n",
      "Int64Index([439490], dtype='int64')\n",
      "Int64Index([440210], dtype='int64')\n",
      "Int64Index([441650], dtype='int64')\n",
      "Int64Index([442370], dtype='int64')\n",
      "Int64Index([442730], dtype='int64')\n",
      "Int64Index([444170], dtype='int64')\n",
      "Int64Index([444530], dtype='int64')\n",
      "Int64Index([445970], dtype='int64')\n",
      "Int64Index([446330], dtype='int64')\n",
      "Int64Index([447243], dtype='int64')\n",
      "Int64Index([447243], dtype='int64')\n",
      "Int64Index([451563], dtype='int64')\n",
      "Int64Index([451923], dtype='int64')\n",
      "Int64Index([454083], dtype='int64')\n",
      "Int64Index([454083], dtype='int64')\n",
      "Int64Index([455523], dtype='int64')\n",
      "Int64Index([457660], dtype='int64')\n",
      "Int64Index([458740], dtype='int64')\n",
      "Int64Index([460180], dtype='int64')\n",
      "Int64Index([462340], dtype='int64')\n",
      "Int64Index([463060], dtype='int64')\n",
      "Int64Index([463780], dtype='int64')\n",
      "Int64Index([464669], dtype='int64')\n",
      "Int64Index([466469], dtype='int64')\n",
      "Int64Index([467189], dtype='int64')\n",
      "Int64Index([468629], dtype='int64')\n",
      "Int64Index([472949], dtype='int64')\n",
      "Int64Index([474654], dtype='int64')\n",
      "Int64Index([475734], dtype='int64')\n",
      "Int64Index([476814], dtype='int64')\n",
      "Int64Index([477174], dtype='int64')\n",
      "Int64Index([478254], dtype='int64')\n",
      "Int64Index([478614], dtype='int64')\n",
      "Int64Index([478974], dtype='int64')\n",
      "Int64Index([481134], dtype='int64')\n",
      "Int64Index([481876], dtype='int64')\n",
      "Int64Index([482167], dtype='int64')\n",
      "Int64Index([483607], dtype='int64')\n",
      "Int64Index([484327], dtype='int64')\n",
      "Int64Index([484687], dtype='int64')\n",
      "Int64Index([485767], dtype='int64')\n",
      "Int64Index([488287], dtype='int64')\n",
      "Int64Index([488287], dtype='int64')\n",
      "Int64Index([489367], dtype='int64')\n",
      "Int64Index([489727], dtype='int64')\n",
      "Int64Index([490447], dtype='int64')\n",
      "Int64Index([491504], dtype='int64')\n",
      "Int64Index([497984], dtype='int64')\n",
      "Int64Index([499398], dtype='int64')\n",
      "Int64Index([500097], dtype='int64')\n",
      "Int64Index([502257], dtype='int64')\n",
      "Int64Index([502617], dtype='int64')\n",
      "Int64Index([502977], dtype='int64')\n",
      "Int64Index([504417], dtype='int64')\n",
      "Int64Index([505857], dtype='int64')\n",
      "Int64Index([507657], dtype='int64')\n",
      "Int64Index([508159], dtype='int64')\n",
      "Int64Index([508954], dtype='int64')\n",
      "Int64Index([510394], dtype='int64')\n",
      "Int64Index([511474], dtype='int64')\n",
      "Int64Index([512914], dtype='int64')\n",
      "Int64Index([513274], dtype='int64')\n",
      "Int64Index([513634], dtype='int64')\n",
      "Int64Index([515074], dtype='int64')\n",
      "Int64Index([517595], dtype='int64')\n",
      "Int64Index([519395], dtype='int64')\n",
      "Int64Index([521915], dtype='int64')\n",
      "Int64Index([522995], dtype='int64')\n",
      "Int64Index([527028], dtype='int64')\n",
      "Int64Index([530988], dtype='int64')\n",
      "Int64Index([532788], dtype='int64')\n",
      "Int64Index([533508], dtype='int64')\n",
      "Int64Index([534709], dtype='int64')\n",
      "Int64Index([535069], dtype='int64')\n",
      "Int64Index([537949], dtype='int64')\n",
      "Int64Index([538669], dtype='int64')\n",
      "Int64Index([539749], dtype='int64')\n",
      "Int64Index([542629], dtype='int64')\n",
      "Int64Index([542989], dtype='int64')\n",
      "Int64Index([543830], dtype='int64')\n",
      "Int64Index([543830], dtype='int64')\n",
      "Int64Index([544910], dtype='int64')\n",
      "Int64Index([546350], dtype='int64')\n",
      "Int64Index([546710], dtype='int64')\n",
      "Int64Index([548150], dtype='int64')\n",
      "Int64Index([550310], dtype='int64')\n",
      "Int64Index([550670], dtype='int64')\n",
      "Int64Index([552039], dtype='int64')\n",
      "Int64Index([552399], dtype='int64')\n",
      "Int64Index([553119], dtype='int64')\n",
      "Int64Index([554199], dtype='int64')\n",
      "Int64Index([554919], dtype='int64')\n",
      "Int64Index([558159], dtype='int64')\n",
      "Int64Index([558879], dtype='int64')\n",
      "Int64Index([560679], dtype='int64')\n",
      "Int64Index([562504], dtype='int64')\n",
      "Int64Index([564304], dtype='int64')\n",
      "Int64Index([565024], dtype='int64')\n",
      "Int64Index([566104], dtype='int64')\n",
      "Int64Index([566104], dtype='int64')\n",
      "Int64Index([566824], dtype='int64')\n",
      "Int64Index([570617], dtype='int64')\n",
      "Int64Index([572777], dtype='int64')\n",
      "Int64Index([572777], dtype='int64')\n",
      "Int64Index([576017], dtype='int64')\n",
      "Int64Index([577817], dtype='int64')\n",
      "Int64Index([578586], dtype='int64')\n",
      "Int64Index([580026], dtype='int64')\n",
      "Int64Index([581826], dtype='int64')\n",
      "Int64Index([582186], dtype='int64')\n",
      "Int64Index([582906], dtype='int64')\n",
      "Int64Index([583986], dtype='int64')\n",
      "Int64Index([584346], dtype='int64')\n",
      "Int64Index([584706], dtype='int64')\n",
      "Int64Index([585066], dtype='int64')\n",
      "Int64Index([589171], dtype='int64')\n",
      "Int64Index([592411], dtype='int64')\n",
      "Int64Index([594931], dtype='int64')\n",
      "Int64Index([595291], dtype='int64')\n",
      "Int64Index([595844], dtype='int64')\n",
      "Int64Index([596204], dtype='int64')\n",
      "Int64Index([596564], dtype='int64')\n",
      "Int64Index([598364], dtype='int64')\n",
      "Int64Index([599084], dtype='int64')\n",
      "Int64Index([600884], dtype='int64')\n",
      "Int64Index([601244], dtype='int64')\n",
      "Int64Index([601604], dtype='int64')\n",
      "Int64Index([602684], dtype='int64')\n",
      "Int64Index([603044], dtype='int64')\n",
      "Int64Index([605157], dtype='int64')\n",
      "Int64Index([608037], dtype='int64')\n",
      "Int64Index([609117], dtype='int64')\n",
      "Int64Index([611997], dtype='int64')\n",
      "Int64Index([612717], dtype='int64')\n",
      "Int64Index([613510], dtype='int64')\n",
      "Int64Index([613870], dtype='int64')\n",
      "Int64Index([613870], dtype='int64')\n",
      "Int64Index([614230], dtype='int64')\n",
      "Int64Index([614590], dtype='int64')\n",
      "Int64Index([614950], dtype='int64')\n",
      "Int64Index([615310], dtype='int64')\n",
      "Int64Index([616030], dtype='int64')\n",
      "Int64Index([617110], dtype='int64')\n",
      "Int64Index([617470], dtype='int64')\n",
      "Int64Index([618190], dtype='int64')\n",
      "Int64Index([619630], dtype='int64')\n",
      "Int64Index([619990], dtype='int64')\n",
      "Int64Index([623999], dtype='int64')\n",
      "Int64Index([627959], dtype='int64')\n",
      "Int64Index([630813], dtype='int64')\n",
      "Int64Index([630816], dtype='int64')\n",
      "Int64Index([631896], dtype='int64')\n",
      "Int64Index([632976], dtype='int64')\n",
      "Int64Index([633336], dtype='int64')\n",
      "Int64Index([633696], dtype='int64')\n",
      "Int64Index([634056], dtype='int64')\n",
      "Int64Index([635496], dtype='int64')\n",
      "Int64Index([636576], dtype='int64')\n",
      "Int64Index([636936], dtype='int64')\n",
      "Int64Index([638376], dtype='int64')\n",
      "Int64Index([638736], dtype='int64')\n",
      "Int64Index([640081], dtype='int64')\n",
      "Int64Index([641161], dtype='int64')\n",
      "Int64Index([642601], dtype='int64')\n",
      "Int64Index([643681], dtype='int64')\n",
      "Int64Index([644401], dtype='int64')\n",
      "Int64Index([646561], dtype='int64')\n",
      "Int64Index([648458], dtype='int64')\n",
      "Int64Index([649178], dtype='int64')\n",
      "Int64Index([650618], dtype='int64')\n",
      "Int64Index([651338], dtype='int64')\n",
      "Int64Index([652058], dtype='int64')\n",
      "Int64Index([653138], dtype='int64')\n",
      "Int64Index([653858], dtype='int64')\n",
      "Int64Index([654218], dtype='int64')\n",
      "Int64Index([655298], dtype='int64')\n",
      "Int64Index([657483], dtype='int64')\n",
      "Int64Index([657843], dtype='int64')\n",
      "Int64Index([658563], dtype='int64')\n",
      "Int64Index([658923], dtype='int64')\n",
      "Int64Index([659283], dtype='int64')\n",
      "Int64Index([660003], dtype='int64')\n",
      "Int64Index([662523], dtype='int64')\n",
      "Int64Index([663603], dtype='int64')\n",
      "Int64Index([665043], dtype='int64')\n",
      "Int64Index([675437], dtype='int64')\n",
      "Int64Index([675797], dtype='int64')\n",
      "Int64Index([676157], dtype='int64')\n",
      "Int64Index([678317], dtype='int64')\n",
      "Int64Index([679037], dtype='int64')\n",
      "Int64Index([679397], dtype='int64')\n",
      "Int64Index([680477], dtype='int64')\n",
      "Int64Index([681917], dtype='int64')\n",
      "Int64Index([682997], dtype='int64')\n",
      "Int64Index([683379], dtype='int64')\n",
      "Int64Index([684822], dtype='int64')\n",
      "Int64Index([685182], dtype='int64')\n",
      "Int64Index([685542], dtype='int64')\n",
      "Int64Index([686622], dtype='int64')\n",
      "Int64Index([687342], dtype='int64')\n",
      "Int64Index([687702], dtype='int64')\n",
      "Int64Index([689502], dtype='int64')\n",
      "Int64Index([689862], dtype='int64')\n",
      "Int64Index([691662], dtype='int64')\n",
      "Int64Index([692140], dtype='int64')\n",
      "Int64Index([696727], dtype='int64')\n",
      "Int64Index([698167], dtype='int64')\n",
      "Int64Index([699607], dtype='int64')\n",
      "Int64Index([700327], dtype='int64')\n",
      "Int64Index([700904], dtype='int64')\n",
      "Int64Index([701264], dtype='int64')\n",
      "Int64Index([701984], dtype='int64')\n",
      "Int64Index([702344], dtype='int64')\n",
      "Int64Index([703424], dtype='int64')\n",
      "Int64Index([704864], dtype='int64')\n",
      "Int64Index([707744], dtype='int64')\n",
      "Int64Index([709184], dtype='int64')\n",
      "Int64Index([710289], dtype='int64')\n",
      "Int64Index([711729], dtype='int64')\n",
      "Int64Index([712809], dtype='int64')\n",
      "Int64Index([717849], dtype='int64')\n",
      "Int64Index([718423], dtype='int64')\n",
      "Int64Index([718762], dtype='int64')\n",
      "Int64Index([720202], dtype='int64')\n",
      "Int64Index([721642], dtype='int64')\n",
      "Int64Index([722002], dtype='int64')\n",
      "Int64Index([723082], dtype='int64')\n",
      "Int64Index([723082], dtype='int64')\n",
      "Int64Index([723802], dtype='int64')\n",
      "Int64Index([724162], dtype='int64')\n",
      "Int64Index([724522], dtype='int64')\n",
      "Int64Index([725242], dtype='int64')\n",
      "Int64Index([726322], dtype='int64')\n",
      "Int64Index([727042], dtype='int64')\n",
      "Int64Index([727042], dtype='int64')\n",
      "Int64Index([727259], dtype='int64')\n",
      "Int64Index([727979], dtype='int64')\n",
      "Int64Index([728339], dtype='int64')\n",
      "Int64Index([729419], dtype='int64')\n",
      "Int64Index([731579], dtype='int64')\n",
      "Int64Index([733019], dtype='int64')\n",
      "Int64Index([733739], dtype='int64')\n",
      "Int64Index([736260], dtype='int64')\n",
      "Int64Index([736620], dtype='int64')\n",
      "Int64Index([736980], dtype='int64')\n",
      "Int64Index([739500], dtype='int64')\n",
      "Int64Index([740220], dtype='int64')\n",
      "Int64Index([741660], dtype='int64')\n",
      "Int64Index([742020], dtype='int64')\n",
      "Int64Index([742740], dtype='int64')\n",
      "Int64Index([743460], dtype='int64')\n",
      "Int64Index([744180], dtype='int64')\n",
      "Int64Index([744540], dtype='int64')\n",
      "Int64Index([744706], dtype='int64')\n",
      "Int64Index([745213], dtype='int64')\n",
      "Int64Index([750613], dtype='int64')\n",
      "Int64Index([752413], dtype='int64')\n",
      "Int64Index([753467], dtype='int64')\n",
      "Int64Index([755150], dtype='int64')\n",
      "Int64Index([755510], dtype='int64')\n",
      "Int64Index([756230], dtype='int64')\n",
      "Int64Index([757670], dtype='int64')\n",
      "Int64Index([758750], dtype='int64')\n",
      "Int64Index([759110], dtype='int64')\n",
      "Int64Index([760550], dtype='int64')\n",
      "Int64Index([761990], dtype='int64')\n",
      "Int64Index([762639], dtype='int64')\n",
      "Int64Index([762999], dtype='int64')\n",
      "Int64Index([763719], dtype='int64')\n",
      "Int64Index([764439], dtype='int64')\n",
      "Int64Index([766599], dtype='int64')\n",
      "Int64Index([768039], dtype='int64')\n",
      "Int64Index([768039], dtype='int64')\n",
      "Int64Index([770199], dtype='int64')\n",
      "Int64Index([770199], dtype='int64')\n",
      "Int64Index([770919], dtype='int64')\n",
      "Int64Index([771856], dtype='int64')\n",
      "Int64Index([772936], dtype='int64')\n",
      "Int64Index([774376], dtype='int64')\n",
      "Int64Index([775096], dtype='int64')\n",
      "Int64Index([775816], dtype='int64')\n",
      "Int64Index([776536], dtype='int64')\n",
      "Int64Index([778696], dtype='int64')\n",
      "Int64Index([780185], dtype='int64')\n",
      "Int64Index([780905], dtype='int64')\n",
      "Int64Index([781625], dtype='int64')\n",
      "Int64Index([781985], dtype='int64')\n",
      "Int64Index([783065], dtype='int64')\n",
      "Int64Index([783425], dtype='int64')\n",
      "Int64Index([785225], dtype='int64')\n",
      "Int64Index([785225], dtype='int64')\n",
      "Int64Index([786305], dtype='int64')\n",
      "Int64Index([787025], dtype='int64')\n",
      "Int64Index([787745], dtype='int64')\n",
      "Int64Index([788465], dtype='int64')\n",
      "Int64Index([789234], dtype='int64')\n",
      "Int64Index([790674], dtype='int64')\n",
      "Int64Index([792474], dtype='int64')\n",
      "Int64Index([792834], dtype='int64')\n",
      "Int64Index([794634], dtype='int64')\n",
      "Int64Index([795714], dtype='int64')\n",
      "Int64Index([798427], dtype='int64')\n",
      "Int64Index([799867], dtype='int64')\n",
      "Int64Index([799867], dtype='int64')\n",
      "Int64Index([800587], dtype='int64')\n",
      "Int64Index([801667], dtype='int64')\n",
      "Int64Index([802747], dtype='int64')\n",
      "Int64Index([803107], dtype='int64')\n",
      "Int64Index([803827], dtype='int64')\n",
      "Int64Index([805267], dtype='int64')\n",
      "Int64Index([807812], dtype='int64')\n",
      "Int64Index([808172], dtype='int64')\n",
      "Int64Index([808532], dtype='int64')\n",
      "Int64Index([808892], dtype='int64')\n",
      "Int64Index([809252], dtype='int64')\n",
      "Int64Index([810332], dtype='int64')\n",
      "Int64Index([814794], dtype='int64')\n",
      "Int64Index([814941], dtype='int64')\n",
      "Int64Index([816021], dtype='int64')\n",
      "Int64Index([816381], dtype='int64')\n",
      "Int64Index([817821], dtype='int64')\n",
      "Int64Index([818181], dtype='int64')\n",
      "Int64Index([820341], dtype='int64')\n",
      "Int64Index([821781], dtype='int64')\n",
      "Int64Index([822501], dtype='int64')\n",
      "Int64Index([822501], dtype='int64')\n",
      "Int64Index([823221], dtype='int64')\n",
      "Int64Index([824710], dtype='int64')\n",
      "Int64Index([825430], dtype='int64')\n",
      "Int64Index([826150], dtype='int64')\n",
      "Int64Index([826510], dtype='int64')\n",
      "Int64Index([827230], dtype='int64')\n",
      "Int64Index([829030], dtype='int64')\n",
      "Int64Index([829750], dtype='int64')\n",
      "Int64Index([830470], dtype='int64')\n",
      "Int64Index([832270], dtype='int64')\n",
      "Int64Index([833423], dtype='int64')\n",
      "Int64Index([835223], dtype='int64')\n",
      "Int64Index([837023], dtype='int64')\n",
      "Int64Index([838103], dtype='int64')\n",
      "Int64Index([840983], dtype='int64')\n",
      "Int64Index([841608], dtype='int64')\n",
      "Int64Index([841608], dtype='int64')\n",
      "Int64Index([844128], dtype='int64')\n",
      "Int64Index([845568], dtype='int64')\n",
      "Int64Index([845928], dtype='int64')\n",
      "Int64Index([847008], dtype='int64')\n",
      "Int64Index([848088], dtype='int64')\n",
      "Int64Index([848808], dtype='int64')\n",
      "Int64Index([850513], dtype='int64')\n",
      "Int64Index([850873], dtype='int64')\n",
      "Int64Index([851233], dtype='int64')\n",
      "Int64Index([852313], dtype='int64')\n",
      "Int64Index([852673], dtype='int64')\n",
      "Int64Index([852673], dtype='int64')\n",
      "Int64Index([853033], dtype='int64')\n",
      "Int64Index([853393], dtype='int64')\n",
      "Int64Index([853753], dtype='int64')\n",
      "Int64Index([854113], dtype='int64')\n",
      "Int64Index([854113], dtype='int64')\n",
      "Int64Index([854833], dtype='int64')\n",
      "Int64Index([855193], dtype='int64')\n",
      "Int64Index([855553], dtype='int64')\n",
      "Int64Index([856993], dtype='int64')\n",
      "Int64Index([857713], dtype='int64')\n",
      "Int64Index([858599], dtype='int64')\n",
      "Int64Index([858986], dtype='int64')\n",
      "Int64Index([859346], dtype='int64')\n",
      "Int64Index([859706], dtype='int64')\n",
      "Int64Index([860066], dtype='int64')\n",
      "Int64Index([860426], dtype='int64')\n",
      "Int64Index([860786], dtype='int64')\n",
      "Int64Index([861146], dtype='int64')\n",
      "Int64Index([861506], dtype='int64')\n",
      "Int64Index([861866], dtype='int64')\n",
      "Int64Index([862226], dtype='int64')\n",
      "Int64Index([862946], dtype='int64')\n",
      "Int64Index([863306], dtype='int64')\n",
      "Int64Index([863666], dtype='int64')\n",
      "Int64Index([864386], dtype='int64')\n",
      "Int64Index([865466], dtype='int64')\n",
      "Int64Index([865826], dtype='int64')\n",
      "Int64Index([866546], dtype='int64')\n",
      "Int64Index([866906], dtype='int64')\n",
      "Int64Index([868347], dtype='int64')\n",
      "Int64Index([873387], dtype='int64')\n",
      "Int64Index([875547], dtype='int64')\n"
     ]
    }
   ],
   "source": [
    "matching_row_str = [str(item) for item in matching_row]\n",
    "# Alternatively:\n",
    "# matching_row_str = list(map(str, matching_row))\n",
    "\n",
    "for i in matching_row_str:\n",
    "    print(i) \n",
    "\n",
    "\n"
   ]
  },
  {
   "cell_type": "code",
   "execution_count": 134,
   "id": "010f317f",
   "metadata": {},
   "outputs": [
    {
     "name": "stdout",
     "output_type": "stream",
     "text": [
      "                  datetime  machineID        volt      rotate    pressure  \\\n",
      "21     2015-01-02 03:00:00          1  158.271400  422.811052   92.439132   \n",
      "24     2015-01-02 06:00:00          1  197.363125  446.943947  114.342061   \n",
      "72     2015-01-04 06:00:00          1  165.010140  448.468838   97.709630   \n",
      "96     2015-01-05 06:00:00          1  179.303153  499.777962  111.833028   \n",
      "120    2015-01-06 06:00:00          1  183.427580  437.628228   94.006105   \n",
      "...                    ...        ...         ...         ...         ...   \n",
      "875955 2015-12-26 06:00:00        100  158.458145  439.782930   96.923681   \n",
      "875979 2015-12-27 06:00:00        100  177.842981  380.338820  100.155659   \n",
      "876027 2015-12-29 06:00:00        100  179.807911  405.072626  108.409725   \n",
      "876051 2015-12-30 06:00:00        100  161.370389  430.543599  107.889110   \n",
      "876075 2015-12-31 06:00:00        100  173.774481  462.549988  101.671563   \n",
      "\n",
      "        vibration failures  \n",
      "21      39.781917        0  \n",
      "24      29.527665        0  \n",
      "72      48.238941        0  \n",
      "96      52.383097    comp4  \n",
      "120     37.985005        0  \n",
      "...           ...      ...  \n",
      "875955  37.166576        0  \n",
      "875979  41.180388        0  \n",
      "876027  31.697468        0  \n",
      "876051  37.583159        0  \n",
      "876075  40.133487        0  \n",
      "\n",
      "[29596 rows x 7 columns]\n"
     ]
    }
   ],
   "source": [
    "f1 = failures.copy()\n",
    "telee = tele.copy()\n",
    "\n",
    "# Convert the datetime columns to datetime type\n",
    "telee['datetime'] = pd.to_datetime(telee['datetime'])\n",
    "f1['datetime'] = pd.to_datetime(f1['datetime'])\n",
    "\n",
    "# Iterate over each row in failures data\n",
    "for index, failure_row in f1.iterrows():\n",
    "    # Extract the datetime and machineID values from failures data\n",
    "    failure_datetime = failure_row['datetime']\n",
    "    machine_id = failure_row['machineID']\n",
    "    failure_value = failure_row['failure']\n",
    "    \n",
    "    # Find the corresponding row in telemetry data\n",
    "    matching_row = telee[\n",
    "        (telee['datetime'] == failure_datetime) & (telee['machineID'] == machine_id)\n",
    "    ]\n",
    "    \n",
    "    # Check if a matching row is found\n",
    "    if len(matching_row) > 0:\n",
    "        # Replace the failure value in telemetry data\n",
    "        telee.loc[matching_row.index, 'failures'] = failure_value\n",
    "\n",
    "# Confirm the changes\n",
    "print(telee[\n",
    "    (telee['datetime'].isin(f1['datetime'])) & (telee['machineID'].isin(f1['machineID']))\n",
    "])\n"
   ]
  },
  {
   "cell_type": "code",
   "execution_count": 135,
   "id": "f5531fb8",
   "metadata": {},
   "outputs": [
    {
     "data": {
      "text/html": [
       "<div>\n",
       "<style scoped>\n",
       "    .dataframe tbody tr th:only-of-type {\n",
       "        vertical-align: middle;\n",
       "    }\n",
       "\n",
       "    .dataframe tbody tr th {\n",
       "        vertical-align: top;\n",
       "    }\n",
       "\n",
       "    .dataframe thead th {\n",
       "        text-align: right;\n",
       "    }\n",
       "</style>\n",
       "<table border=\"1\" class=\"dataframe\">\n",
       "  <thead>\n",
       "    <tr style=\"text-align: right;\">\n",
       "      <th></th>\n",
       "      <th>datetime</th>\n",
       "      <th>machineID</th>\n",
       "      <th>volt</th>\n",
       "      <th>rotate</th>\n",
       "      <th>pressure</th>\n",
       "      <th>vibration</th>\n",
       "      <th>failures</th>\n",
       "    </tr>\n",
       "  </thead>\n",
       "  <tbody>\n",
       "    <tr>\n",
       "      <th>875547</th>\n",
       "      <td>2015-12-09 06:00:00</td>\n",
       "      <td>100</td>\n",
       "      <td>144.72019</td>\n",
       "      <td>377.188361</td>\n",
       "      <td>109.995936</td>\n",
       "      <td>28.4334</td>\n",
       "      <td>0</td>\n",
       "    </tr>\n",
       "  </tbody>\n",
       "</table>\n",
       "</div>"
      ],
      "text/plain": [
       "                  datetime  machineID       volt      rotate    pressure  \\\n",
       "875547 2015-12-09 06:00:00        100  144.72019  377.188361  109.995936   \n",
       "\n",
       "        vibration failures  \n",
       "875547    28.4334        0  "
      ]
     },
     "execution_count": 135,
     "metadata": {},
     "output_type": "execute_result"
    }
   ],
   "source": [
    "matching_row"
   ]
  },
  {
   "cell_type": "code",
   "execution_count": null,
   "id": "9c940351",
   "metadata": {},
   "outputs": [],
   "source": []
  },
  {
   "attachments": {},
   "cell_type": "markdown",
   "id": "f21699e3",
   "metadata": {},
   "source": [
    "there are files named tele that has telemetry data of overhead cranes and failures data. Create a for loop that checks the datetime column in failures data and confirms the machine id and then finds the same datetime and machineID in telemetry data and replaces the failure value of telemetry data to failure value of the failures data. Confirm that the values has been changed for correct date and machineID. Do all this using python. "
   ]
  },
  {
   "cell_type": "code",
   "execution_count": 130,
   "id": "e931b120",
   "metadata": {},
   "outputs": [
    {
     "ename": "ValueError",
     "evalue": "The truth value of a DataFrame is ambiguous. Use a.empty, a.bool(), a.item(), a.any() or a.all().",
     "output_type": "error",
     "traceback": [
      "\u001b[1;31m---------------------------------------------------------------------------\u001b[0m",
      "\u001b[1;31mValueError\u001b[0m                                Traceback (most recent call last)",
      "\u001b[1;32m~\\AppData\\Local\\Temp/ipykernel_16036/548042079.py\u001b[0m in \u001b[0;36m<module>\u001b[1;34m\u001b[0m\n\u001b[0;32m      1\u001b[0m \u001b[0mmach1\u001b[0m \u001b[1;33m=\u001b[0m \u001b[0mtele\u001b[0m\u001b[1;33m[\u001b[0m\u001b[0mtele\u001b[0m\u001b[1;33m[\u001b[0m\u001b[1;34m'machineID'\u001b[0m\u001b[1;33m]\u001b[0m \u001b[1;33m==\u001b[0m \u001b[1;36m1\u001b[0m\u001b[1;33m]\u001b[0m\u001b[1;33m\u001b[0m\u001b[1;33m\u001b[0m\u001b[0m\n\u001b[0;32m      2\u001b[0m \u001b[1;32mfor\u001b[0m \u001b[0mfailure_date\u001b[0m \u001b[1;32min\u001b[0m \u001b[0mfailures\u001b[0m\u001b[1;33m[\u001b[0m\u001b[1;34m'datetime'\u001b[0m\u001b[1;33m]\u001b[0m\u001b[1;33m:\u001b[0m\u001b[1;33m\u001b[0m\u001b[1;33m\u001b[0m\u001b[0m\n\u001b[1;32m----> 3\u001b[1;33m     \u001b[1;32mif\u001b[0m \u001b[0mmach1\u001b[0m\u001b[1;33m[\u001b[0m\u001b[0mmach1\u001b[0m\u001b[1;33m[\u001b[0m\u001b[1;34m'datetime'\u001b[0m\u001b[1;33m]\u001b[0m \u001b[1;33m==\u001b[0m \u001b[0mfailure_date\u001b[0m\u001b[1;33m]\u001b[0m\u001b[1;33m:\u001b[0m\u001b[1;33m\u001b[0m\u001b[1;33m\u001b[0m\u001b[0m\n\u001b[0m\u001b[0;32m      4\u001b[0m         \u001b[0mrow_index\u001b[0m \u001b[1;33m=\u001b[0m \u001b[0mmach1\u001b[0m\u001b[1;33m[\u001b[0m\u001b[0mmach1\u001b[0m\u001b[1;33m[\u001b[0m\u001b[1;34m'datetime'\u001b[0m\u001b[1;33m]\u001b[0m \u001b[1;33m==\u001b[0m \u001b[0mfailure_date\u001b[0m\u001b[1;33m]\u001b[0m\u001b[1;33m.\u001b[0m\u001b[0mindex\u001b[0m\u001b[1;33m\u001b[0m\u001b[1;33m\u001b[0m\u001b[0m\n\u001b[0;32m      5\u001b[0m     \u001b[1;32melse\u001b[0m\u001b[1;33m:\u001b[0m\u001b[1;33m\u001b[0m\u001b[1;33m\u001b[0m\u001b[0m\n",
      "\u001b[1;32md:\\Anaconda3\\lib\\site-packages\\pandas\\core\\generic.py\u001b[0m in \u001b[0;36m__nonzero__\u001b[1;34m(self)\u001b[0m\n\u001b[0;32m   1535\u001b[0m     \u001b[1;33m@\u001b[0m\u001b[0mfinal\u001b[0m\u001b[1;33m\u001b[0m\u001b[1;33m\u001b[0m\u001b[0m\n\u001b[0;32m   1536\u001b[0m     \u001b[1;32mdef\u001b[0m \u001b[0m__nonzero__\u001b[0m\u001b[1;33m(\u001b[0m\u001b[0mself\u001b[0m\u001b[1;33m)\u001b[0m\u001b[1;33m:\u001b[0m\u001b[1;33m\u001b[0m\u001b[1;33m\u001b[0m\u001b[0m\n\u001b[1;32m-> 1537\u001b[1;33m         raise ValueError(\n\u001b[0m\u001b[0;32m   1538\u001b[0m             \u001b[1;34mf\"The truth value of a {type(self).__name__} is ambiguous. \"\u001b[0m\u001b[1;33m\u001b[0m\u001b[1;33m\u001b[0m\u001b[0m\n\u001b[0;32m   1539\u001b[0m             \u001b[1;34m\"Use a.empty, a.bool(), a.item(), a.any() or a.all().\"\u001b[0m\u001b[1;33m\u001b[0m\u001b[1;33m\u001b[0m\u001b[0m\n",
      "\u001b[1;31mValueError\u001b[0m: The truth value of a DataFrame is ambiguous. Use a.empty, a.bool(), a.item(), a.any() or a.all()."
     ]
    }
   ],
   "source": [
    "mach1 = tele[tele['machineID'] == 1]\n",
    "for failure_date in failures['datetime']:\n",
    "    if mach1[mach1['datetime'] == failure_date]:\n",
    "        row_index = mach1[mach1['datetime'] == failure_date].index\n",
    "    else:\n",
    "        pass\n",
    "\n",
    "row_index"
   ]
  },
  {
   "cell_type": "code",
   "execution_count": 126,
   "id": "5b568fda",
   "metadata": {},
   "outputs": [
    {
     "ename": "KeyError",
     "evalue": "\"None of [Index(['failure'], dtype='object')] are in the [columns]\"",
     "output_type": "error",
     "traceback": [
      "\u001b[1;31m---------------------------------------------------------------------------\u001b[0m",
      "\u001b[1;31mKeyError\u001b[0m                                  Traceback (most recent call last)",
      "\u001b[1;32m~\\AppData\\Local\\Temp/ipykernel_16036/892108966.py\u001b[0m in \u001b[0;36m<module>\u001b[1;34m\u001b[0m\n\u001b[0;32m      4\u001b[0m     \u001b[1;32mfor\u001b[0m \u001b[0mfailure_date\u001b[0m \u001b[1;32min\u001b[0m \u001b[0mfailures\u001b[0m\u001b[1;33m[\u001b[0m\u001b[1;34m'datetime'\u001b[0m\u001b[1;33m]\u001b[0m\u001b[1;33m:\u001b[0m\u001b[1;33m\u001b[0m\u001b[1;33m\u001b[0m\u001b[0m\n\u001b[0;32m      5\u001b[0m         \u001b[1;32mif\u001b[0m \u001b[1;33m(\u001b[0m\u001b[0mtelemetry_date\u001b[0m \u001b[1;33m==\u001b[0m \u001b[0mfailure_date\u001b[0m\u001b[1;33m)\u001b[0m\u001b[1;33m:\u001b[0m\u001b[1;33m\u001b[0m\u001b[1;33m\u001b[0m\u001b[0m\n\u001b[1;32m----> 6\u001b[1;33m             \u001b[0mrow_index\u001b[0m \u001b[1;33m=\u001b[0m \u001b[0mtele\u001b[0m\u001b[1;33m[\u001b[0m\u001b[0mtele\u001b[0m\u001b[1;33m[\u001b[0m\u001b[1;34m'datetime'\u001b[0m\u001b[1;33m]\u001b[0m \u001b[1;33m==\u001b[0m \u001b[0mtelemetry_date\u001b[0m\u001b[1;33m]\u001b[0m\u001b[1;33m.\u001b[0m\u001b[0mloc\u001b[0m\u001b[1;33m[\u001b[0m \u001b[1;33m:\u001b[0m \u001b[1;33m,\u001b[0m \u001b[1;33m[\u001b[0m\u001b[1;34m'failure'\u001b[0m\u001b[1;33m]\u001b[0m\u001b[1;33m]\u001b[0m\u001b[1;33m.\u001b[0m\u001b[0mindex\u001b[0m\u001b[1;33m\u001b[0m\u001b[1;33m\u001b[0m\u001b[0m\n\u001b[0m\u001b[0;32m      7\u001b[0m         \u001b[1;32melse\u001b[0m\u001b[1;33m:\u001b[0m\u001b[1;33m\u001b[0m\u001b[1;33m\u001b[0m\u001b[0m\n\u001b[0;32m      8\u001b[0m             \u001b[0mli\u001b[0m\u001b[1;33m.\u001b[0m\u001b[0mappend\u001b[0m\u001b[1;33m(\u001b[0m\u001b[1;36m1\u001b[0m\u001b[1;33m)\u001b[0m\u001b[1;33m\u001b[0m\u001b[1;33m\u001b[0m\u001b[0m\n",
      "\u001b[1;32md:\\Anaconda3\\lib\\site-packages\\pandas\\core\\indexing.py\u001b[0m in \u001b[0;36m__getitem__\u001b[1;34m(self, key)\u001b[0m\n\u001b[0;32m    923\u001b[0m                 \u001b[1;32mwith\u001b[0m \u001b[0msuppress\u001b[0m\u001b[1;33m(\u001b[0m\u001b[0mKeyError\u001b[0m\u001b[1;33m,\u001b[0m \u001b[0mIndexError\u001b[0m\u001b[1;33m)\u001b[0m\u001b[1;33m:\u001b[0m\u001b[1;33m\u001b[0m\u001b[1;33m\u001b[0m\u001b[0m\n\u001b[0;32m    924\u001b[0m                     \u001b[1;32mreturn\u001b[0m \u001b[0mself\u001b[0m\u001b[1;33m.\u001b[0m\u001b[0mobj\u001b[0m\u001b[1;33m.\u001b[0m\u001b[0m_get_value\u001b[0m\u001b[1;33m(\u001b[0m\u001b[1;33m*\u001b[0m\u001b[0mkey\u001b[0m\u001b[1;33m,\u001b[0m \u001b[0mtakeable\u001b[0m\u001b[1;33m=\u001b[0m\u001b[0mself\u001b[0m\u001b[1;33m.\u001b[0m\u001b[0m_takeable\u001b[0m\u001b[1;33m)\u001b[0m\u001b[1;33m\u001b[0m\u001b[1;33m\u001b[0m\u001b[0m\n\u001b[1;32m--> 925\u001b[1;33m             \u001b[1;32mreturn\u001b[0m \u001b[0mself\u001b[0m\u001b[1;33m.\u001b[0m\u001b[0m_getitem_tuple\u001b[0m\u001b[1;33m(\u001b[0m\u001b[0mkey\u001b[0m\u001b[1;33m)\u001b[0m\u001b[1;33m\u001b[0m\u001b[1;33m\u001b[0m\u001b[0m\n\u001b[0m\u001b[0;32m    926\u001b[0m         \u001b[1;32melse\u001b[0m\u001b[1;33m:\u001b[0m\u001b[1;33m\u001b[0m\u001b[1;33m\u001b[0m\u001b[0m\n\u001b[0;32m    927\u001b[0m             \u001b[1;31m# we by definition only have the 0th axis\u001b[0m\u001b[1;33m\u001b[0m\u001b[1;33m\u001b[0m\u001b[0m\n",
      "\u001b[1;32md:\\Anaconda3\\lib\\site-packages\\pandas\\core\\indexing.py\u001b[0m in \u001b[0;36m_getitem_tuple\u001b[1;34m(self, tup)\u001b[0m\n\u001b[0;32m   1107\u001b[0m             \u001b[1;32mreturn\u001b[0m \u001b[0mself\u001b[0m\u001b[1;33m.\u001b[0m\u001b[0m_multi_take\u001b[0m\u001b[1;33m(\u001b[0m\u001b[0mtup\u001b[0m\u001b[1;33m)\u001b[0m\u001b[1;33m\u001b[0m\u001b[1;33m\u001b[0m\u001b[0m\n\u001b[0;32m   1108\u001b[0m \u001b[1;33m\u001b[0m\u001b[0m\n\u001b[1;32m-> 1109\u001b[1;33m         \u001b[1;32mreturn\u001b[0m \u001b[0mself\u001b[0m\u001b[1;33m.\u001b[0m\u001b[0m_getitem_tuple_same_dim\u001b[0m\u001b[1;33m(\u001b[0m\u001b[0mtup\u001b[0m\u001b[1;33m)\u001b[0m\u001b[1;33m\u001b[0m\u001b[1;33m\u001b[0m\u001b[0m\n\u001b[0m\u001b[0;32m   1110\u001b[0m \u001b[1;33m\u001b[0m\u001b[0m\n\u001b[0;32m   1111\u001b[0m     \u001b[1;32mdef\u001b[0m \u001b[0m_get_label\u001b[0m\u001b[1;33m(\u001b[0m\u001b[0mself\u001b[0m\u001b[1;33m,\u001b[0m \u001b[0mlabel\u001b[0m\u001b[1;33m,\u001b[0m \u001b[0maxis\u001b[0m\u001b[1;33m:\u001b[0m \u001b[0mint\u001b[0m\u001b[1;33m)\u001b[0m\u001b[1;33m:\u001b[0m\u001b[1;33m\u001b[0m\u001b[1;33m\u001b[0m\u001b[0m\n",
      "\u001b[1;32md:\\Anaconda3\\lib\\site-packages\\pandas\\core\\indexing.py\u001b[0m in \u001b[0;36m_getitem_tuple_same_dim\u001b[1;34m(self, tup)\u001b[0m\n\u001b[0;32m    804\u001b[0m                 \u001b[1;32mcontinue\u001b[0m\u001b[1;33m\u001b[0m\u001b[1;33m\u001b[0m\u001b[0m\n\u001b[0;32m    805\u001b[0m \u001b[1;33m\u001b[0m\u001b[0m\n\u001b[1;32m--> 806\u001b[1;33m             \u001b[0mretval\u001b[0m \u001b[1;33m=\u001b[0m \u001b[0mgetattr\u001b[0m\u001b[1;33m(\u001b[0m\u001b[0mretval\u001b[0m\u001b[1;33m,\u001b[0m \u001b[0mself\u001b[0m\u001b[1;33m.\u001b[0m\u001b[0mname\u001b[0m\u001b[1;33m)\u001b[0m\u001b[1;33m.\u001b[0m\u001b[0m_getitem_axis\u001b[0m\u001b[1;33m(\u001b[0m\u001b[0mkey\u001b[0m\u001b[1;33m,\u001b[0m \u001b[0maxis\u001b[0m\u001b[1;33m=\u001b[0m\u001b[0mi\u001b[0m\u001b[1;33m)\u001b[0m\u001b[1;33m\u001b[0m\u001b[1;33m\u001b[0m\u001b[0m\n\u001b[0m\u001b[0;32m    807\u001b[0m             \u001b[1;31m# We should never have retval.ndim < self.ndim, as that should\u001b[0m\u001b[1;33m\u001b[0m\u001b[1;33m\u001b[0m\u001b[0m\n\u001b[0;32m    808\u001b[0m             \u001b[1;31m#  be handled by the _getitem_lowerdim call above.\u001b[0m\u001b[1;33m\u001b[0m\u001b[1;33m\u001b[0m\u001b[0m\n",
      "\u001b[1;32md:\\Anaconda3\\lib\\site-packages\\pandas\\core\\indexing.py\u001b[0m in \u001b[0;36m_getitem_axis\u001b[1;34m(self, key, axis)\u001b[0m\n\u001b[0;32m   1151\u001b[0m                     \u001b[1;32mraise\u001b[0m \u001b[0mValueError\u001b[0m\u001b[1;33m(\u001b[0m\u001b[1;34m\"Cannot index with multidimensional key\"\u001b[0m\u001b[1;33m)\u001b[0m\u001b[1;33m\u001b[0m\u001b[1;33m\u001b[0m\u001b[0m\n\u001b[0;32m   1152\u001b[0m \u001b[1;33m\u001b[0m\u001b[0m\n\u001b[1;32m-> 1153\u001b[1;33m                 \u001b[1;32mreturn\u001b[0m \u001b[0mself\u001b[0m\u001b[1;33m.\u001b[0m\u001b[0m_getitem_iterable\u001b[0m\u001b[1;33m(\u001b[0m\u001b[0mkey\u001b[0m\u001b[1;33m,\u001b[0m \u001b[0maxis\u001b[0m\u001b[1;33m=\u001b[0m\u001b[0maxis\u001b[0m\u001b[1;33m)\u001b[0m\u001b[1;33m\u001b[0m\u001b[1;33m\u001b[0m\u001b[0m\n\u001b[0m\u001b[0;32m   1154\u001b[0m \u001b[1;33m\u001b[0m\u001b[0m\n\u001b[0;32m   1155\u001b[0m             \u001b[1;31m# nested tuple slicing\u001b[0m\u001b[1;33m\u001b[0m\u001b[1;33m\u001b[0m\u001b[0m\n",
      "\u001b[1;32md:\\Anaconda3\\lib\\site-packages\\pandas\\core\\indexing.py\u001b[0m in \u001b[0;36m_getitem_iterable\u001b[1;34m(self, key, axis)\u001b[0m\n\u001b[0;32m   1091\u001b[0m \u001b[1;33m\u001b[0m\u001b[0m\n\u001b[0;32m   1092\u001b[0m         \u001b[1;31m# A collection of keys\u001b[0m\u001b[1;33m\u001b[0m\u001b[1;33m\u001b[0m\u001b[0m\n\u001b[1;32m-> 1093\u001b[1;33m         \u001b[0mkeyarr\u001b[0m\u001b[1;33m,\u001b[0m \u001b[0mindexer\u001b[0m \u001b[1;33m=\u001b[0m \u001b[0mself\u001b[0m\u001b[1;33m.\u001b[0m\u001b[0m_get_listlike_indexer\u001b[0m\u001b[1;33m(\u001b[0m\u001b[0mkey\u001b[0m\u001b[1;33m,\u001b[0m \u001b[0maxis\u001b[0m\u001b[1;33m)\u001b[0m\u001b[1;33m\u001b[0m\u001b[1;33m\u001b[0m\u001b[0m\n\u001b[0m\u001b[0;32m   1094\u001b[0m         return self.obj._reindex_with_indexers(\n\u001b[0;32m   1095\u001b[0m             \u001b[1;33m{\u001b[0m\u001b[0maxis\u001b[0m\u001b[1;33m:\u001b[0m \u001b[1;33m[\u001b[0m\u001b[0mkeyarr\u001b[0m\u001b[1;33m,\u001b[0m \u001b[0mindexer\u001b[0m\u001b[1;33m]\u001b[0m\u001b[1;33m}\u001b[0m\u001b[1;33m,\u001b[0m \u001b[0mcopy\u001b[0m\u001b[1;33m=\u001b[0m\u001b[1;32mTrue\u001b[0m\u001b[1;33m,\u001b[0m \u001b[0mallow_dups\u001b[0m\u001b[1;33m=\u001b[0m\u001b[1;32mTrue\u001b[0m\u001b[1;33m\u001b[0m\u001b[1;33m\u001b[0m\u001b[0m\n",
      "\u001b[1;32md:\\Anaconda3\\lib\\site-packages\\pandas\\core\\indexing.py\u001b[0m in \u001b[0;36m_get_listlike_indexer\u001b[1;34m(self, key, axis)\u001b[0m\n\u001b[0;32m   1312\u001b[0m             \u001b[0mkeyarr\u001b[0m\u001b[1;33m,\u001b[0m \u001b[0mindexer\u001b[0m\u001b[1;33m,\u001b[0m \u001b[0mnew_indexer\u001b[0m \u001b[1;33m=\u001b[0m \u001b[0max\u001b[0m\u001b[1;33m.\u001b[0m\u001b[0m_reindex_non_unique\u001b[0m\u001b[1;33m(\u001b[0m\u001b[0mkeyarr\u001b[0m\u001b[1;33m)\u001b[0m\u001b[1;33m\u001b[0m\u001b[1;33m\u001b[0m\u001b[0m\n\u001b[0;32m   1313\u001b[0m \u001b[1;33m\u001b[0m\u001b[0m\n\u001b[1;32m-> 1314\u001b[1;33m         \u001b[0mself\u001b[0m\u001b[1;33m.\u001b[0m\u001b[0m_validate_read_indexer\u001b[0m\u001b[1;33m(\u001b[0m\u001b[0mkeyarr\u001b[0m\u001b[1;33m,\u001b[0m \u001b[0mindexer\u001b[0m\u001b[1;33m,\u001b[0m \u001b[0maxis\u001b[0m\u001b[1;33m)\u001b[0m\u001b[1;33m\u001b[0m\u001b[1;33m\u001b[0m\u001b[0m\n\u001b[0m\u001b[0;32m   1315\u001b[0m \u001b[1;33m\u001b[0m\u001b[0m\n\u001b[0;32m   1316\u001b[0m         if needs_i8_conversion(ax.dtype) or isinstance(\n",
      "\u001b[1;32md:\\Anaconda3\\lib\\site-packages\\pandas\\core\\indexing.py\u001b[0m in \u001b[0;36m_validate_read_indexer\u001b[1;34m(self, key, indexer, axis)\u001b[0m\n\u001b[0;32m   1372\u001b[0m                 \u001b[1;32mif\u001b[0m \u001b[0muse_interval_msg\u001b[0m\u001b[1;33m:\u001b[0m\u001b[1;33m\u001b[0m\u001b[1;33m\u001b[0m\u001b[0m\n\u001b[0;32m   1373\u001b[0m                     \u001b[0mkey\u001b[0m \u001b[1;33m=\u001b[0m \u001b[0mlist\u001b[0m\u001b[1;33m(\u001b[0m\u001b[0mkey\u001b[0m\u001b[1;33m)\u001b[0m\u001b[1;33m\u001b[0m\u001b[1;33m\u001b[0m\u001b[0m\n\u001b[1;32m-> 1374\u001b[1;33m                 \u001b[1;32mraise\u001b[0m \u001b[0mKeyError\u001b[0m\u001b[1;33m(\u001b[0m\u001b[1;34mf\"None of [{key}] are in the [{axis_name}]\"\u001b[0m\u001b[1;33m)\u001b[0m\u001b[1;33m\u001b[0m\u001b[1;33m\u001b[0m\u001b[0m\n\u001b[0m\u001b[0;32m   1375\u001b[0m \u001b[1;33m\u001b[0m\u001b[0m\n\u001b[0;32m   1376\u001b[0m             \u001b[0mnot_found\u001b[0m \u001b[1;33m=\u001b[0m \u001b[0mlist\u001b[0m\u001b[1;33m(\u001b[0m\u001b[0mensure_index\u001b[0m\u001b[1;33m(\u001b[0m\u001b[0mkey\u001b[0m\u001b[1;33m)\u001b[0m\u001b[1;33m[\u001b[0m\u001b[0mmissing_mask\u001b[0m\u001b[1;33m.\u001b[0m\u001b[0mnonzero\u001b[0m\u001b[1;33m(\u001b[0m\u001b[1;33m)\u001b[0m\u001b[1;33m[\u001b[0m\u001b[1;36m0\u001b[0m\u001b[1;33m]\u001b[0m\u001b[1;33m]\u001b[0m\u001b[1;33m.\u001b[0m\u001b[0munique\u001b[0m\u001b[1;33m(\u001b[0m\u001b[1;33m)\u001b[0m\u001b[1;33m)\u001b[0m\u001b[1;33m\u001b[0m\u001b[1;33m\u001b[0m\u001b[0m\n",
      "\u001b[1;31mKeyError\u001b[0m: \"None of [Index(['failure'], dtype='object')] are in the [columns]\""
     ]
    }
   ],
   "source": [
    "li = []\n",
    "\n",
    "for telemetry_date in tele['datetime'].unique():\n",
    "    if tele[tele['machineID'] == 1]: \n",
    "        row_indexes = tele[tele['machineID'] == 1]\n",
    "    for failure_date in failures['datetime']:\n",
    "        if (telemetry_date == failure_date):\n",
    "            row_index = tele[tele['datetime'] == telemetry_date].loc[ : , ['failure']].index\n",
    "        else:\n",
    "            li.append(1)"
   ]
  },
  {
   "cell_type": "code",
   "execution_count": 113,
   "id": "b40fa357",
   "metadata": {},
   "outputs": [
    {
     "ename": "ValueError",
     "evalue": "The truth value of a DataFrame is ambiguous. Use a.empty, a.bool(), a.item(), a.any() or a.all().",
     "output_type": "error",
     "traceback": [
      "\u001b[1;31m---------------------------------------------------------------------------\u001b[0m",
      "\u001b[1;31mValueError\u001b[0m                                Traceback (most recent call last)",
      "\u001b[1;32m~\\AppData\\Local\\Temp/ipykernel_16036/210462049.py\u001b[0m in \u001b[0;36m<module>\u001b[1;34m\u001b[0m\n\u001b[0;32m      3\u001b[0m \u001b[1;32mwhile\u001b[0m \u001b[0mi\u001b[0m \u001b[1;33m<=\u001b[0m \u001b[1;36m101\u001b[0m\u001b[1;33m:\u001b[0m\u001b[1;33m\u001b[0m\u001b[1;33m\u001b[0m\u001b[0m\n\u001b[0;32m      4\u001b[0m     \u001b[1;32mfor\u001b[0m \u001b[0mfailure_date\u001b[0m \u001b[1;32min\u001b[0m \u001b[0mfailures\u001b[0m\u001b[1;33m[\u001b[0m\u001b[1;34m'datetime'\u001b[0m\u001b[1;33m]\u001b[0m\u001b[1;33m:\u001b[0m\u001b[1;33m\u001b[0m\u001b[1;33m\u001b[0m\u001b[0m\n\u001b[1;32m----> 5\u001b[1;33m         \u001b[1;32mif\u001b[0m \u001b[0mfailures\u001b[0m\u001b[1;33m[\u001b[0m\u001b[0mfailures\u001b[0m\u001b[1;33m[\u001b[0m\u001b[1;34m'machineID'\u001b[0m\u001b[1;33m]\u001b[0m \u001b[1;33m==\u001b[0m \u001b[0mi\u001b[0m\u001b[1;33m]\u001b[0m\u001b[1;33m:\u001b[0m\u001b[1;33m\u001b[0m\u001b[1;33m\u001b[0m\u001b[0m\n\u001b[0m\u001b[0;32m      6\u001b[0m             \u001b[1;32mfor\u001b[0m \u001b[0mtelemetry_date\u001b[0m \u001b[1;32min\u001b[0m \u001b[0mtele\u001b[0m\u001b[1;33m[\u001b[0m\u001b[1;34m'datetime'\u001b[0m\u001b[1;33m]\u001b[0m\u001b[1;33m:\u001b[0m\u001b[1;33m\u001b[0m\u001b[1;33m\u001b[0m\u001b[0m\n\u001b[0;32m      7\u001b[0m                 \u001b[1;32mif\u001b[0m \u001b[0mtele\u001b[0m\u001b[1;33m[\u001b[0m\u001b[0mtele\u001b[0m\u001b[1;33m[\u001b[0m\u001b[1;34m'machineID'\u001b[0m\u001b[1;33m]\u001b[0m \u001b[1;33m==\u001b[0m \u001b[0mi\u001b[0m\u001b[1;33m]\u001b[0m \u001b[1;33m&\u001b[0m \u001b[1;33m(\u001b[0m\u001b[0mtelemetry_date\u001b[0m \u001b[1;33m==\u001b[0m \u001b[0mfailure_date\u001b[0m\u001b[1;33m)\u001b[0m\u001b[1;33m:\u001b[0m\u001b[1;33m\u001b[0m\u001b[1;33m\u001b[0m\u001b[0m\n",
      "\u001b[1;32md:\\Anaconda3\\lib\\site-packages\\pandas\\core\\generic.py\u001b[0m in \u001b[0;36m__nonzero__\u001b[1;34m(self)\u001b[0m\n\u001b[0;32m   1535\u001b[0m     \u001b[1;33m@\u001b[0m\u001b[0mfinal\u001b[0m\u001b[1;33m\u001b[0m\u001b[1;33m\u001b[0m\u001b[0m\n\u001b[0;32m   1536\u001b[0m     \u001b[1;32mdef\u001b[0m \u001b[0m__nonzero__\u001b[0m\u001b[1;33m(\u001b[0m\u001b[0mself\u001b[0m\u001b[1;33m)\u001b[0m\u001b[1;33m:\u001b[0m\u001b[1;33m\u001b[0m\u001b[1;33m\u001b[0m\u001b[0m\n\u001b[1;32m-> 1537\u001b[1;33m         raise ValueError(\n\u001b[0m\u001b[0;32m   1538\u001b[0m             \u001b[1;34mf\"The truth value of a {type(self).__name__} is ambiguous. \"\u001b[0m\u001b[1;33m\u001b[0m\u001b[1;33m\u001b[0m\u001b[0m\n\u001b[0;32m   1539\u001b[0m             \u001b[1;34m\"Use a.empty, a.bool(), a.item(), a.any() or a.all().\"\u001b[0m\u001b[1;33m\u001b[0m\u001b[1;33m\u001b[0m\u001b[0m\n",
      "\u001b[1;31mValueError\u001b[0m: The truth value of a DataFrame is ambiguous. Use a.empty, a.bool(), a.item(), a.any() or a.all()."
     ]
    }
   ],
   "source": [
    "changes_found = 0\n",
    "li = []\n",
    "\n",
    "for telemetry_date in tele['datetime']:\n",
    "    for failure_date in failures['datetime']:\n",
    "        if \n",
    "        \n",
    "            if tele[tele['machineID'] == 1] & (telemetry_date == failure_date):\n",
    "                li.append(tele[tele['machineID'] == 1] & (telemetry_date == failure_date).index)\n",
    "            else: i += 1\n",
    "\n"
   ]
  },
  {
   "cell_type": "code",
   "execution_count": 84,
   "id": "cf1b0621",
   "metadata": {},
   "outputs": [],
   "source": [
    "\n",
    "# df1 = failures, df2 = tele\n",
    "\n",
    "merged_data = []\n",
    "\n",
    "# Iterate over rows in df1\n",
    "for index, row in failures.iterrows():\n",
    "    datetime_val = row['datetime']\n",
    "    machineID_val = row['machineID']\n",
    "    matching_rows = tele[(tele['datetime'] == datetime_val) & (tele['machineID'] == machineID_val)]\n",
    "    \n",
    "    if not matching_rows.empty:\n",
    "        # Merge columns and append to merged_data list\n",
    "        merged_row = pd.concat([row, matching_rows[['failures']]], axis=1)\n",
    "        merged_data.append(merged_row)\n",
    "\n",
    "# Convert merged_data to DataFrame\n",
    "merged_df = pd.concat(merged_data)\n",
    "\n",
    "# Write merged DataFrame to a new CSV file\n",
    "#merged_df.to_csv('merged.csv', index=False)\n"
   ]
  },
  {
   "cell_type": "code",
   "execution_count": 61,
   "id": "3436ff42",
   "metadata": {},
   "outputs": [
    {
     "name": "stdout",
     "output_type": "stream",
     "text": [
      "Index(['datetime', 'machineID', 'volt', 'rotate', 'pressure', 'vibration'], dtype='object')\n",
      "Index(['datetime', 'machineID', 'failure'], dtype='object')\n"
     ]
    }
   ],
   "source": [
    "print(telemetry.keys())\n",
    "print(failures.keys())"
   ]
  },
  {
   "cell_type": "code",
   "execution_count": 8,
   "id": "d8576105",
   "metadata": {},
   "outputs": [],
   "source": [
    "def explore(df):\n",
    "    print(\"*\"*100)\n",
    "    print(\"Number of rows: \",df.shape[0])\n",
    "    print(\"Number of COlumns: \",df.shape[1])\n",
    "    print(\"Total Missing Values: \",df.isna().sum().sum())\n",
    "    print(\"*\"*100)\n",
    "    print(\"Column Wise Missing Values: \")\n",
    "    print(df.isna().sum())\n",
    "    print(\"*\"*100)\n",
    "    print(df.info())\n",
    "    print(\"*\"*100)\n",
    "    print(df.describe(include='all'))\n",
    "    print(\"*\"*100)\n",
    "   \n",
    "def mergeDF(df1,df2,on=\"machineID\",how=\"inner\"):\n",
    "    df = df1.copy()\n",
    "    df = df.merge(df2,on=on,how=how)\n",
    "    return df\n",
    "\n",
    "def convert(df,_type):\n",
    "    return df.astype(_type)"
   ]
  },
  {
   "cell_type": "code",
   "execution_count": 9,
   "id": "6ab4e72c",
   "metadata": {
    "scrolled": true
   },
   "outputs": [
    {
     "name": "stdout",
     "output_type": "stream",
     "text": [
      "****************************************************************************************************\n",
      "Number of rows:  3919\n",
      "Number of COlumns:  3\n",
      "Total Missing Values:  0\n",
      "****************************************************************************************************\n",
      "Column Wise Missing Values: \n",
      "datetime     0\n",
      "machineID    0\n",
      "errorID      0\n",
      "dtype: int64\n",
      "****************************************************************************************************\n",
      "<class 'pandas.core.frame.DataFrame'>\n",
      "RangeIndex: 3919 entries, 0 to 3918\n",
      "Data columns (total 3 columns):\n",
      " #   Column     Non-Null Count  Dtype \n",
      "---  ------     --------------  ----- \n",
      " 0   datetime   3919 non-null   object\n",
      " 1   machineID  3919 non-null   int64 \n",
      " 2   errorID    3919 non-null   object\n",
      "dtypes: int64(1), object(2)\n",
      "memory usage: 92.0+ KB\n",
      "None\n",
      "****************************************************************************************************\n",
      "                   datetime    machineID errorID\n",
      "count                  3919  3919.000000    3919\n",
      "unique                 2720          NaN       5\n",
      "top     2015-12-08 06:00:00          NaN  error1\n",
      "freq                     12          NaN    1010\n",
      "mean                    NaN    51.044654     NaN\n",
      "std                     NaN    28.954988     NaN\n",
      "min                     NaN     1.000000     NaN\n",
      "25%                     NaN    25.000000     NaN\n",
      "50%                     NaN    51.000000     NaN\n",
      "75%                     NaN    77.000000     NaN\n",
      "max                     NaN   100.000000     NaN\n",
      "****************************************************************************************************\n"
     ]
    }
   ],
   "source": [
    "# errors, failures, machines, telemetry, maint\n",
    "\n",
    "#ERRORS\n",
    "explore(errors)\n",
    "errors['machineID'] = convert(errors['machineID'],\"object\")\n",
    "\n",
    "#https://stackoverflow.com/questions/17134716/convert-dataframe-column-type-from-string-to-datetime\n",
    "errors['datetime'] = convert(errors['datetime'],\"datetime64[ns]\")"
   ]
  },
  {
   "cell_type": "code",
   "execution_count": 10,
   "id": "c74124e2",
   "metadata": {},
   "outputs": [
    {
     "name": "stdout",
     "output_type": "stream",
     "text": [
      "****************************************************************************************************\n",
      "Number of rows:  761\n",
      "Number of COlumns:  3\n",
      "Total Missing Values:  0\n",
      "****************************************************************************************************\n",
      "Column Wise Missing Values: \n",
      "datetime     0\n",
      "machineID    0\n",
      "failure      0\n",
      "dtype: int64\n",
      "****************************************************************************************************\n",
      "<class 'pandas.core.frame.DataFrame'>\n",
      "RangeIndex: 761 entries, 0 to 760\n",
      "Data columns (total 3 columns):\n",
      " #   Column     Non-Null Count  Dtype \n",
      "---  ------     --------------  ----- \n",
      " 0   datetime   761 non-null    object\n",
      " 1   machineID  761 non-null    int64 \n",
      " 2   failure    761 non-null    object\n",
      "dtypes: int64(1), object(2)\n",
      "memory usage: 18.0+ KB\n",
      "None\n",
      "****************************************************************************************************\n",
      "                   datetime   machineID failure\n",
      "count                   761  761.000000     761\n",
      "unique                  302         NaN       4\n",
      "top     2015-01-02 03:00:00         NaN   comp2\n",
      "freq                     18         NaN     259\n",
      "mean                    NaN   51.911958     NaN\n",
      "std                     NaN   29.515542     NaN\n",
      "min                     NaN    1.000000     NaN\n",
      "25%                     NaN   24.000000     NaN\n",
      "50%                     NaN   51.000000     NaN\n",
      "75%                     NaN   79.000000     NaN\n",
      "max                     NaN  100.000000     NaN\n",
      "****************************************************************************************************\n"
     ]
    }
   ],
   "source": [
    "explore(failures)\n",
    "failures['machineID'] = convert(failures['machineID'],\"object\")\n",
    "failures['datetime'] = convert(failures['datetime'],\"datetime64[ns]\")"
   ]
  },
  {
   "cell_type": "code",
   "execution_count": 11,
   "id": "f328d6a0",
   "metadata": {},
   "outputs": [
    {
     "name": "stdout",
     "output_type": "stream",
     "text": [
      "****************************************************************************************************\n",
      "Number of rows:  100\n",
      "Number of COlumns:  3\n",
      "Total Missing Values:  0\n",
      "****************************************************************************************************\n",
      "Column Wise Missing Values: \n",
      "machineID    0\n",
      "model        0\n",
      "age          0\n",
      "dtype: int64\n",
      "****************************************************************************************************\n",
      "<class 'pandas.core.frame.DataFrame'>\n",
      "RangeIndex: 100 entries, 0 to 99\n",
      "Data columns (total 3 columns):\n",
      " #   Column     Non-Null Count  Dtype \n",
      "---  ------     --------------  ----- \n",
      " 0   machineID  100 non-null    int64 \n",
      " 1   model      100 non-null    object\n",
      " 2   age        100 non-null    int64 \n",
      "dtypes: int64(2), object(1)\n",
      "memory usage: 2.5+ KB\n",
      "None\n",
      "****************************************************************************************************\n",
      "         machineID   model         age\n",
      "count   100.000000     100  100.000000\n",
      "unique         NaN       4         NaN\n",
      "top            NaN  model3         NaN\n",
      "freq           NaN      35         NaN\n",
      "mean     50.500000     NaN   11.330000\n",
      "std      29.011492     NaN    5.856974\n",
      "min       1.000000     NaN    0.000000\n",
      "25%      25.750000     NaN    6.750000\n",
      "50%      50.500000     NaN   12.000000\n",
      "75%      75.250000     NaN   16.000000\n",
      "max     100.000000     NaN   20.000000\n",
      "****************************************************************************************************\n"
     ]
    }
   ],
   "source": [
    "explore(machines)\n",
    "machines['machineID'] = convert(machines['machineID'],\"object\")\n",
    "machines['age'] = convert(machines['age'],\"category\")"
   ]
  },
  {
   "cell_type": "code",
   "execution_count": 12,
   "id": "50f10f5c",
   "metadata": {
    "scrolled": true
   },
   "outputs": [
    {
     "name": "stdout",
     "output_type": "stream",
     "text": [
      "****************************************************************************************************\n",
      "Number of rows:  876100\n",
      "Number of COlumns:  6\n"
     ]
    },
    {
     "name": "stdout",
     "output_type": "stream",
     "text": [
      "Total Missing Values:  0\n",
      "****************************************************************************************************\n",
      "Column Wise Missing Values: \n",
      "datetime     0\n",
      "machineID    0\n",
      "volt         0\n",
      "rotate       0\n",
      "pressure     0\n",
      "vibration    0\n",
      "dtype: int64\n",
      "****************************************************************************************************\n",
      "<class 'pandas.core.frame.DataFrame'>\n",
      "RangeIndex: 876100 entries, 0 to 876099\n",
      "Data columns (total 6 columns):\n",
      " #   Column     Non-Null Count   Dtype  \n",
      "---  ------     --------------   -----  \n",
      " 0   datetime   876100 non-null  object \n",
      " 1   machineID  876100 non-null  int64  \n",
      " 2   volt       876100 non-null  float64\n",
      " 3   rotate     876100 non-null  float64\n",
      " 4   pressure   876100 non-null  float64\n",
      " 5   vibration  876100 non-null  float64\n",
      "dtypes: float64(4), int64(1), object(1)\n",
      "memory usage: 40.1+ MB\n",
      "None\n",
      "****************************************************************************************************\n",
      "                   datetime      machineID           volt         rotate  \\\n",
      "count                876100  876100.000000  876100.000000  876100.000000   \n",
      "unique                 8761            NaN            NaN            NaN   \n",
      "top     2015-01-01 06:00:00            NaN            NaN            NaN   \n",
      "freq                    100            NaN            NaN            NaN   \n",
      "mean                    NaN      50.500000     170.777736     446.605119   \n",
      "std                     NaN      28.866087      15.509114      52.673886   \n",
      "min                     NaN       1.000000      97.333604     138.432075   \n",
      "25%                     NaN      25.750000     160.304927     412.305714   \n",
      "50%                     NaN      50.500000     170.607338     447.558150   \n",
      "75%                     NaN      75.250000     181.004493     482.176600   \n",
      "max                     NaN     100.000000     255.124717     695.020984   \n",
      "\n",
      "             pressure      vibration  \n",
      "count   876100.000000  876100.000000  \n",
      "unique            NaN            NaN  \n",
      "top               NaN            NaN  \n",
      "freq              NaN            NaN  \n",
      "mean       100.858668      40.385007  \n",
      "std         11.048679       5.370361  \n",
      "min         51.237106      14.877054  \n",
      "25%         93.498181      36.777299  \n",
      "50%        100.425559      40.237247  \n",
      "75%        107.555231      43.784938  \n",
      "max        185.951998      76.791072  \n",
      "****************************************************************************************************\n"
     ]
    }
   ],
   "source": [
    "explore(telemetry)\n",
    "telemetry['machineID'] = convert(telemetry['machineID'],\"object\")\n",
    "telemetry['datetime'] = convert(telemetry['datetime'],\"datetime64[ns]\")"
   ]
  },
  {
   "cell_type": "code",
   "execution_count": 13,
   "id": "a2d20d4e",
   "metadata": {},
   "outputs": [
    {
     "name": "stdout",
     "output_type": "stream",
     "text": [
      "****************************************************************************************************\n",
      "Number of rows:  3286\n",
      "Number of COlumns:  3\n",
      "Total Missing Values:  0\n",
      "****************************************************************************************************\n",
      "Column Wise Missing Values: \n",
      "datetime     0\n",
      "machineID    0\n",
      "comp         0\n",
      "dtype: int64\n",
      "****************************************************************************************************\n",
      "<class 'pandas.core.frame.DataFrame'>\n",
      "RangeIndex: 3286 entries, 0 to 3285\n",
      "Data columns (total 3 columns):\n",
      " #   Column     Non-Null Count  Dtype \n",
      "---  ------     --------------  ----- \n",
      " 0   datetime   3286 non-null   object\n",
      " 1   machineID  3286 non-null   int64 \n",
      " 2   comp       3286 non-null   object\n",
      "dtypes: int64(1), object(2)\n",
      "memory usage: 77.1+ KB\n",
      "None\n",
      "****************************************************************************************************\n",
      "                   datetime    machineID   comp\n",
      "count                  3286  3286.000000   3286\n",
      "unique                  374          NaN      4\n",
      "top     2014-11-28 06:00:00          NaN  comp2\n",
      "freq                     37          NaN    863\n",
      "mean                    NaN    50.284236    NaN\n",
      "std                     NaN    28.914478    NaN\n",
      "min                     NaN     1.000000    NaN\n",
      "25%                     NaN    25.250000    NaN\n",
      "50%                     NaN    50.000000    NaN\n",
      "75%                     NaN    75.000000    NaN\n",
      "max                     NaN   100.000000    NaN\n",
      "****************************************************************************************************\n"
     ]
    }
   ],
   "source": [
    "explore(maint)\n",
    "maint['machineID'] = convert(maint['machineID'],\"object\")\n",
    "maint['datetime'] = convert(maint['datetime'],\"datetime64[ns]\")"
   ]
  },
  {
   "cell_type": "code",
   "execution_count": 14,
   "id": "5a305648",
   "metadata": {},
   "outputs": [
    {
     "name": "stdout",
     "output_type": "stream",
     "text": [
      "[(3919, 3), (761, 3), (100, 3), (876100, 6), (3286, 3)]\n"
     ]
    }
   ],
   "source": [
    "# errors, failures, machines, telemetry, maint\n",
    "print([errors.shape,failures.shape,machines.shape, telemetry.shape, maint.shape])"
   ]
  },
  {
   "cell_type": "code",
   "execution_count": 15,
   "id": "0e2a8a9e",
   "metadata": {},
   "outputs": [],
   "source": [
    "l = telemetry['datetime'].astype('str').str.split(\" \")"
   ]
  },
  {
   "cell_type": "code",
   "execution_count": 16,
   "id": "9956ad46",
   "metadata": {},
   "outputs": [],
   "source": [
    "# https://stackoverflow.com/questions/35491274/split-a-pandas-column-of-lists-into-multiple-columns\n",
    "x = l.tolist()\n",
    "telemetry[['date','time']] =  pd.DataFrame(x, index= telemetry.index)"
   ]
  },
  {
   "cell_type": "code",
   "execution_count": 17,
   "id": "2a044975",
   "metadata": {},
   "outputs": [
    {
     "data": {
      "text/plain": [
       "('2015-01-01', '2016-01-01')"
      ]
     },
     "execution_count": 17,
     "metadata": {},
     "output_type": "execute_result"
    }
   ],
   "source": [
    "# date range\n",
    "min(telemetry['date']),max(telemetry['date'])"
   ]
  },
  {
   "cell_type": "code",
   "execution_count": 18,
   "id": "7362f27b",
   "metadata": {},
   "outputs": [
    {
     "data": {
      "text/plain": [
       "(Timestamp('2015-01-01 06:00:00'), Timestamp('2016-01-01 05:00:00'))"
      ]
     },
     "execution_count": 18,
     "metadata": {},
     "output_type": "execute_result"
    }
   ],
   "source": [
    "min(errors['datetime']),max(errors['datetime'])"
   ]
  },
  {
   "cell_type": "code",
   "execution_count": 19,
   "id": "03d8d9d9",
   "metadata": {},
   "outputs": [
    {
     "data": {
      "text/plain": [
       "(Timestamp('2014-06-01 06:00:00'), Timestamp('2016-01-01 06:00:00'))"
      ]
     },
     "execution_count": 19,
     "metadata": {},
     "output_type": "execute_result"
    }
   ],
   "source": [
    "min(maint['datetime']),max(maint['datetime'])"
   ]
  },
  {
   "cell_type": "code",
   "execution_count": 20,
   "id": "fdbb98f2",
   "metadata": {},
   "outputs": [
    {
     "data": {
      "text/plain": [
       "(Timestamp('2015-01-02 03:00:00'), Timestamp('2015-12-31 06:00:00'))"
      ]
     },
     "execution_count": 20,
     "metadata": {},
     "output_type": "execute_result"
    }
   ],
   "source": [
    "min(failures['datetime']),max(failures['datetime'])"
   ]
  },
  {
   "cell_type": "code",
   "execution_count": 21,
   "id": "f5418093",
   "metadata": {},
   "outputs": [
    {
     "data": {
      "image/png": "[encoded data removed]",
      "text/latex": [
       "$\\displaystyle 366$"
      ],
      "text/plain": [
       "366"
      ]
     },
     "execution_count": 21,
     "metadata": {},
     "output_type": "execute_result"
    }
   ],
   "source": [
    "len(telemetry['date'].unique())"
   ]
  },
  {
   "cell_type": "code",
   "execution_count": 22,
   "id": "00f531aa",
   "metadata": {},
   "outputs": [
    {
     "data": {
      "text/plain": [
       "(Timestamp('2014-06-01 06:00:00'), Timestamp('2016-01-01 06:00:00'))"
      ]
     },
     "execution_count": 22,
     "metadata": {},
     "output_type": "execute_result"
    }
   ],
   "source": [
    "min(maint['datetime']),max(maint['datetime'])"
   ]
  },
  {
   "cell_type": "code",
   "execution_count": 23,
   "id": "dbd10f9d",
   "metadata": {},
   "outputs": [
    {
     "data": {
      "text/html": [
       "<div>\n",
       "<style scoped>\n",
       "    .dataframe tbody tr th:only-of-type {\n",
       "        vertical-align: middle;\n",
       "    }\n",
       "\n",
       "    .dataframe tbody tr th {\n",
       "        vertical-align: top;\n",
       "    }\n",
       "\n",
       "    .dataframe thead th {\n",
       "        text-align: right;\n",
       "    }\n",
       "</style>\n",
       "<table border=\"1\" class=\"dataframe\">\n",
       "  <thead>\n",
       "    <tr style=\"text-align: right;\">\n",
       "      <th></th>\n",
       "      <th>datetime</th>\n",
       "      <th>machineID</th>\n",
       "      <th>volt</th>\n",
       "      <th>rotate</th>\n",
       "      <th>pressure</th>\n",
       "      <th>vibration</th>\n",
       "      <th>date</th>\n",
       "      <th>time</th>\n",
       "    </tr>\n",
       "  </thead>\n",
       "  <tbody>\n",
       "    <tr>\n",
       "      <th>0</th>\n",
       "      <td>2015-01-01 06:00:00</td>\n",
       "      <td>1</td>\n",
       "      <td>176.217853</td>\n",
       "      <td>418.504078</td>\n",
       "      <td>113.077935</td>\n",
       "      <td>45.087686</td>\n",
       "      <td>2015-01-01</td>\n",
       "      <td>06:00:00</td>\n",
       "    </tr>\n",
       "    <tr>\n",
       "      <th>1</th>\n",
       "      <td>2015-01-01 07:00:00</td>\n",
       "      <td>1</td>\n",
       "      <td>162.879223</td>\n",
       "      <td>402.747490</td>\n",
       "      <td>95.460525</td>\n",
       "      <td>43.413973</td>\n",
       "      <td>2015-01-01</td>\n",
       "      <td>07:00:00</td>\n",
       "    </tr>\n",
       "    <tr>\n",
       "      <th>2</th>\n",
       "      <td>2015-01-01 08:00:00</td>\n",
       "      <td>1</td>\n",
       "      <td>170.989902</td>\n",
       "      <td>527.349825</td>\n",
       "      <td>75.237905</td>\n",
       "      <td>34.178847</td>\n",
       "      <td>2015-01-01</td>\n",
       "      <td>08:00:00</td>\n",
       "    </tr>\n",
       "    <tr>\n",
       "      <th>3</th>\n",
       "      <td>2015-01-01 09:00:00</td>\n",
       "      <td>1</td>\n",
       "      <td>162.462833</td>\n",
       "      <td>346.149335</td>\n",
       "      <td>109.248561</td>\n",
       "      <td>41.122144</td>\n",
       "      <td>2015-01-01</td>\n",
       "      <td>09:00:00</td>\n",
       "    </tr>\n",
       "    <tr>\n",
       "      <th>4</th>\n",
       "      <td>2015-01-01 10:00:00</td>\n",
       "      <td>1</td>\n",
       "      <td>157.610021</td>\n",
       "      <td>435.376873</td>\n",
       "      <td>111.886648</td>\n",
       "      <td>25.990511</td>\n",
       "      <td>2015-01-01</td>\n",
       "      <td>10:00:00</td>\n",
       "    </tr>\n",
       "    <tr>\n",
       "      <th>...</th>\n",
       "      <td>...</td>\n",
       "      <td>...</td>\n",
       "      <td>...</td>\n",
       "      <td>...</td>\n",
       "      <td>...</td>\n",
       "      <td>...</td>\n",
       "      <td>...</td>\n",
       "      <td>...</td>\n",
       "    </tr>\n",
       "    <tr>\n",
       "      <th>876095</th>\n",
       "      <td>2016-01-01 02:00:00</td>\n",
       "      <td>100</td>\n",
       "      <td>179.438162</td>\n",
       "      <td>395.222827</td>\n",
       "      <td>102.290715</td>\n",
       "      <td>50.771941</td>\n",
       "      <td>2016-01-01</td>\n",
       "      <td>02:00:00</td>\n",
       "    </tr>\n",
       "    <tr>\n",
       "      <th>876096</th>\n",
       "      <td>2016-01-01 03:00:00</td>\n",
       "      <td>100</td>\n",
       "      <td>189.617555</td>\n",
       "      <td>446.207972</td>\n",
       "      <td>98.180607</td>\n",
       "      <td>35.123072</td>\n",
       "      <td>2016-01-01</td>\n",
       "      <td>03:00:00</td>\n",
       "    </tr>\n",
       "    <tr>\n",
       "      <th>876097</th>\n",
       "      <td>2016-01-01 04:00:00</td>\n",
       "      <td>100</td>\n",
       "      <td>192.483414</td>\n",
       "      <td>447.816524</td>\n",
       "      <td>94.132837</td>\n",
       "      <td>48.314561</td>\n",
       "      <td>2016-01-01</td>\n",
       "      <td>04:00:00</td>\n",
       "    </tr>\n",
       "    <tr>\n",
       "      <th>876098</th>\n",
       "      <td>2016-01-01 05:00:00</td>\n",
       "      <td>100</td>\n",
       "      <td>165.475310</td>\n",
       "      <td>413.771670</td>\n",
       "      <td>104.081073</td>\n",
       "      <td>44.835259</td>\n",
       "      <td>2016-01-01</td>\n",
       "      <td>05:00:00</td>\n",
       "    </tr>\n",
       "    <tr>\n",
       "      <th>876099</th>\n",
       "      <td>2016-01-01 06:00:00</td>\n",
       "      <td>100</td>\n",
       "      <td>171.336037</td>\n",
       "      <td>496.096870</td>\n",
       "      <td>79.095538</td>\n",
       "      <td>37.845245</td>\n",
       "      <td>2016-01-01</td>\n",
       "      <td>06:00:00</td>\n",
       "    </tr>\n",
       "  </tbody>\n",
       "</table>\n",
       "<p>876100 rows × 8 columns</p>\n",
       "</div>"
      ],
      "text/plain": [
       "                  datetime machineID        volt      rotate    pressure  \\\n",
       "0      2015-01-01 06:00:00         1  176.217853  418.504078  113.077935   \n",
       "1      2015-01-01 07:00:00         1  162.879223  402.747490   95.460525   \n",
       "2      2015-01-01 08:00:00         1  170.989902  527.349825   75.237905   \n",
       "3      2015-01-01 09:00:00         1  162.462833  346.149335  109.248561   \n",
       "4      2015-01-01 10:00:00         1  157.610021  435.376873  111.886648   \n",
       "...                    ...       ...         ...         ...         ...   \n",
       "876095 2016-01-01 02:00:00       100  179.438162  395.222827  102.290715   \n",
       "876096 2016-01-01 03:00:00       100  189.617555  446.207972   98.180607   \n",
       "876097 2016-01-01 04:00:00       100  192.483414  447.816524   94.132837   \n",
       "876098 2016-01-01 05:00:00       100  165.475310  413.771670  104.081073   \n",
       "876099 2016-01-01 06:00:00       100  171.336037  496.096870   79.095538   \n",
       "\n",
       "        vibration        date      time  \n",
       "0       45.087686  2015-01-01  06:00:00  \n",
       "1       43.413973  2015-01-01  07:00:00  \n",
       "2       34.178847  2015-01-01  08:00:00  \n",
       "3       41.122144  2015-01-01  09:00:00  \n",
       "4       25.990511  2015-01-01  10:00:00  \n",
       "...           ...         ...       ...  \n",
       "876095  50.771941  2016-01-01  02:00:00  \n",
       "876096  35.123072  2016-01-01  03:00:00  \n",
       "876097  48.314561  2016-01-01  04:00:00  \n",
       "876098  44.835259  2016-01-01  05:00:00  \n",
       "876099  37.845245  2016-01-01  06:00:00  \n",
       "\n",
       "[876100 rows x 8 columns]"
      ]
     },
     "execution_count": 23,
     "metadata": {},
     "output_type": "execute_result"
    }
   ],
   "source": [
    "telemetry"
   ]
  },
  {
   "cell_type": "code",
   "execution_count": 42,
   "id": "9c6b848c",
   "metadata": {},
   "outputs": [
    {
     "data": {
      "text/plain": [
       "2015-01-01 06:00:00    100\n",
       "2015-09-01 17:00:00    100\n",
       "2015-09-01 11:00:00    100\n",
       "2015-09-01 12:00:00    100\n",
       "2015-09-01 13:00:00    100\n",
       "                      ... \n",
       "2015-05-02 17:00:00    100\n",
       "2015-05-02 16:00:00    100\n",
       "2015-05-02 15:00:00    100\n",
       "2015-05-02 14:00:00    100\n",
       "2016-01-01 06:00:00    100\n",
       "Name: datetime, Length: 8761, dtype: int64"
      ]
     },
     "execution_count": 42,
     "metadata": {},
     "output_type": "execute_result"
    }
   ],
   "source": [
    "telemetry[telemetry['date']=='2015-06-07']['time'].value_counts() #For each machine 24hrs data is given\n",
    "date = telemetry['datetime']\n",
    "date.value_counts()"
   ]
  },
  {
   "cell_type": "code",
   "execution_count": 25,
   "id": "1dea86b0",
   "metadata": {},
   "outputs": [
    {
     "data": {
      "text/plain": [
       "00:00:00    100\n",
       "01:00:00    100\n",
       "02:00:00    100\n",
       "03:00:00    100\n",
       "04:00:00    100\n",
       "05:00:00    100\n",
       "06:00:00    100\n",
       "Name: time, dtype: int64"
      ]
     },
     "execution_count": 25,
     "metadata": {},
     "output_type": "execute_result"
    }
   ],
   "source": [
    "telemetry[telemetry['date']=='2016-01-01']['time'].value_counts()  "
   ]
  },
  {
   "cell_type": "code",
   "execution_count": 26,
   "id": "e9af2356",
   "metadata": {},
   "outputs": [
    {
     "data": {
      "text/plain": [
       "[<matplotlib.lines.Line2D at 0x2c9a8c10fd0>]"
      ]
     },
     "execution_count": 26,
     "metadata": {},
     "output_type": "execute_result"
    },
    {
     "data": {
      "image/png": "[encoded data removed]",
      "text/plain": [
       "<Figure size 432x288 with 1 Axes>"
      ]
     },
     "metadata": {
      "needs_background": "light"
     },
     "output_type": "display_data"
    }
   ],
   "source": [
    "plt.plot(telemetry['date'][0:50], telemetry['volt'][0:50]) # Check delimeter, since the hour resets from 24 to 0 the model needs to be given a direction."
   ]
  },
  {
   "cell_type": "code",
   "execution_count": 27,
   "id": "6fea9af1",
   "metadata": {},
   "outputs": [
    {
     "data": {
      "text/plain": [
       "[<matplotlib.lines.Line2D at 0x2c9a853f7f0>]"
      ]
     },
     "execution_count": 27,
     "metadata": {},
     "output_type": "execute_result"
    },
    {
     "data": {
      "image/png": "[encoded data removed]",
      "text/plain": [
       "<Figure size 432x288 with 1 Axes>"
      ]
     },
     "metadata": {
      "needs_background": "light"
     },
     "output_type": "display_data"
    }
   ],
   "source": [
    "plt.plot(telemetry['date'][0:10], telemetry['volt'][0:10])"
   ]
  },
  {
   "cell_type": "code",
   "execution_count": 28,
   "id": "4568b602",
   "metadata": {},
   "outputs": [],
   "source": [
    "# Query asked to OpenAi: 'for an hourly basis timestap, feature extraction in jupyter'\n",
    "tel2 = telemetry\n",
    "# Extract features from timestamp\n",
    "tel2['hour'] = tel2['datetime'].dt.hour\n",
    "tel2['day_of_week'] = tel2['datetime'].dt.dayofweek\n",
    "tel2['month'] = tel2['datetime'].dt.month\n",
    "tel2['year'] = tel2['datetime'].dt.year\n"
   ]
  },
  {
   "cell_type": "code",
   "execution_count": 47,
   "id": "00ec439a",
   "metadata": {},
   "outputs": [
    {
     "data": {
      "text/plain": [
       "array([1., 1., 1., 1.])"
      ]
     },
     "execution_count": 47,
     "metadata": {},
     "output_type": "execute_result"
    }
   ],
   "source": [
    "# Values are in degrees that needs to be converted to radians first\n",
    "rotation = tel2['rotate'] \n",
    "\n",
    "rotation2 = rotation * math.pi/180 # values in radians \n",
    "sin_val = np.sin(rotation2)\n",
    "cos_val = np.cos(rotation2)\n",
    "sq_sums = sin_val**2 + cos_val**2 # Verify sin square theta + cos square theta equals 1 \n",
    "sq_sums.unique()\n",
    "\n",
    "#Alternative methods include: help(np.arctan2) ;  np.deg2rad\n",
    "# from sklearn.preprocessing import PolynomialFeatures\n",
    "# import copy #deep copy the dataframe if needed\n"
   ]
  },
  {
   "cell_type": "code",
   "execution_count": 45,
   "id": "7a8616a9",
   "metadata": {},
   "outputs": [
    {
     "data": {
      "text/plain": [
       "0         1.0\n",
       "1         1.0\n",
       "2         1.0\n",
       "3         1.0\n",
       "4         1.0\n",
       "         ... \n",
       "876095    1.0\n",
       "876096    1.0\n",
       "876097    1.0\n",
       "876098    1.0\n",
       "876099    1.0\n",
       "Name: rotate, Length: 876100, dtype: float64"
      ]
     },
     "execution_count": 45,
     "metadata": {},
     "output_type": "execute_result"
    }
   ],
   "source": []
  },
  {
   "cell_type": "code",
   "execution_count": 30,
   "id": "79596596",
   "metadata": {},
   "outputs": [
    {
     "name": "stdout",
     "output_type": "stream",
     "text": [
      "Mean Voltage observed in volts: 170.77773639409625 \t Std in voltage: 15.509105355275556\n"
     ]
    }
   ],
   "source": [
    "# Dealing with the Voltage column\n",
    "# Assuming units in volts; Ohms law { V = IR : voltage(V), current(I), resistance(R)}\n",
    "mean_voltage = tel2['volt'].mean()\n",
    "std_voltage = np.std(tel2['volt'])\n",
    "print('Mean Voltage observed in volts:',mean_voltage,'\\t', 'Std in voltage:', std_voltage)\n"
   ]
  },
  {
   "cell_type": "code",
   "execution_count": 31,
   "id": "2bfd0c9d",
   "metadata": {},
   "outputs": [
    {
     "data": {
      "image/png": "[encoded data removed]",
      "text/latex": [
       "$\\displaystyle 3.14159265358979$"
      ],
      "text/plain": [
       "3.141592653589793"
      ]
     },
     "execution_count": 31,
     "metadata": {},
     "output_type": "execute_result"
    }
   ],
   "source": [
    "tel2\n",
    "np.pi\n"
   ]
  },
  {
   "cell_type": "code",
   "execution_count": 32,
   "id": "ede0b5ed",
   "metadata": {},
   "outputs": [
    {
     "data": {
      "text/html": [
       "<div>\n",
       "<style scoped>\n",
       "    .dataframe tbody tr th:only-of-type {\n",
       "        vertical-align: middle;\n",
       "    }\n",
       "\n",
       "    .dataframe tbody tr th {\n",
       "        vertical-align: top;\n",
       "    }\n",
       "\n",
       "    .dataframe thead th {\n",
       "        text-align: right;\n",
       "    }\n",
       "</style>\n",
       "<table border=\"1\" class=\"dataframe\">\n",
       "  <thead>\n",
       "    <tr style=\"text-align: right;\">\n",
       "      <th></th>\n",
       "      <th>datetime</th>\n",
       "      <th>machineID</th>\n",
       "      <th>failure</th>\n",
       "    </tr>\n",
       "  </thead>\n",
       "  <tbody>\n",
       "    <tr>\n",
       "      <th>0</th>\n",
       "      <td>2015-01-05 06:00:00</td>\n",
       "      <td>1</td>\n",
       "      <td>comp4</td>\n",
       "    </tr>\n",
       "    <tr>\n",
       "      <th>1</th>\n",
       "      <td>2015-03-06 06:00:00</td>\n",
       "      <td>1</td>\n",
       "      <td>comp1</td>\n",
       "    </tr>\n",
       "    <tr>\n",
       "      <th>2</th>\n",
       "      <td>2015-04-20 06:00:00</td>\n",
       "      <td>1</td>\n",
       "      <td>comp2</td>\n",
       "    </tr>\n",
       "    <tr>\n",
       "      <th>3</th>\n",
       "      <td>2015-06-19 06:00:00</td>\n",
       "      <td>1</td>\n",
       "      <td>comp4</td>\n",
       "    </tr>\n",
       "    <tr>\n",
       "      <th>4</th>\n",
       "      <td>2015-09-02 06:00:00</td>\n",
       "      <td>1</td>\n",
       "      <td>comp4</td>\n",
       "    </tr>\n",
       "    <tr>\n",
       "      <th>...</th>\n",
       "      <td>...</td>\n",
       "      <td>...</td>\n",
       "      <td>...</td>\n",
       "    </tr>\n",
       "    <tr>\n",
       "      <th>756</th>\n",
       "      <td>2015-11-29 06:00:00</td>\n",
       "      <td>99</td>\n",
       "      <td>comp3</td>\n",
       "    </tr>\n",
       "    <tr>\n",
       "      <th>757</th>\n",
       "      <td>2015-12-14 06:00:00</td>\n",
       "      <td>99</td>\n",
       "      <td>comp4</td>\n",
       "    </tr>\n",
       "    <tr>\n",
       "      <th>758</th>\n",
       "      <td>2015-02-12 06:00:00</td>\n",
       "      <td>100</td>\n",
       "      <td>comp1</td>\n",
       "    </tr>\n",
       "    <tr>\n",
       "      <th>759</th>\n",
       "      <td>2015-09-10 06:00:00</td>\n",
       "      <td>100</td>\n",
       "      <td>comp1</td>\n",
       "    </tr>\n",
       "    <tr>\n",
       "      <th>760</th>\n",
       "      <td>2015-12-09 06:00:00</td>\n",
       "      <td>100</td>\n",
       "      <td>comp2</td>\n",
       "    </tr>\n",
       "  </tbody>\n",
       "</table>\n",
       "<p>761 rows × 3 columns</p>\n",
       "</div>"
      ],
      "text/plain": [
       "               datetime machineID failure\n",
       "0   2015-01-05 06:00:00         1   comp4\n",
       "1   2015-03-06 06:00:00         1   comp1\n",
       "2   2015-04-20 06:00:00         1   comp2\n",
       "3   2015-06-19 06:00:00         1   comp4\n",
       "4   2015-09-02 06:00:00         1   comp4\n",
       "..                  ...       ...     ...\n",
       "756 2015-11-29 06:00:00        99   comp3\n",
       "757 2015-12-14 06:00:00        99   comp4\n",
       "758 2015-02-12 06:00:00       100   comp1\n",
       "759 2015-09-10 06:00:00       100   comp1\n",
       "760 2015-12-09 06:00:00       100   comp2\n",
       "\n",
       "[761 rows x 3 columns]"
      ]
     },
     "execution_count": 32,
     "metadata": {},
     "output_type": "execute_result"
    }
   ],
   "source": [
    "failures"
   ]
  },
  {
   "attachments": {},
   "cell_type": "markdown",
   "id": "3904336d",
   "metadata": {},
   "source": [
    "### Merging the datasets "
   ]
  },
  {
   "cell_type": "code",
   "execution_count": 34,
   "id": "4e2c0693",
   "metadata": {},
   "outputs": [
    {
     "name": "stdout",
     "output_type": "stream",
     "text": [
      "(100, 3)\n",
      "(3286, 3)\n",
      "(3286, 5)\n"
     ]
    },
    {
     "data": {
      "text/html": [
       "<div>\n",
       "<style scoped>\n",
       "    .dataframe tbody tr th:only-of-type {\n",
       "        vertical-align: middle;\n",
       "    }\n",
       "\n",
       "    .dataframe tbody tr th {\n",
       "        vertical-align: top;\n",
       "    }\n",
       "\n",
       "    .dataframe thead th {\n",
       "        text-align: right;\n",
       "    }\n",
       "</style>\n",
       "<table border=\"1\" class=\"dataframe\">\n",
       "  <thead>\n",
       "    <tr style=\"text-align: right;\">\n",
       "      <th></th>\n",
       "      <th>machineID</th>\n",
       "      <th>model</th>\n",
       "      <th>age</th>\n",
       "      <th>datetime</th>\n",
       "      <th>comp</th>\n",
       "    </tr>\n",
       "  </thead>\n",
       "  <tbody>\n",
       "    <tr>\n",
       "      <th>0</th>\n",
       "      <td>1</td>\n",
       "      <td>model3</td>\n",
       "      <td>18</td>\n",
       "      <td>2014-06-01 06:00:00</td>\n",
       "      <td>comp2</td>\n",
       "    </tr>\n",
       "    <tr>\n",
       "      <th>1</th>\n",
       "      <td>1</td>\n",
       "      <td>model3</td>\n",
       "      <td>18</td>\n",
       "      <td>2014-07-16 06:00:00</td>\n",
       "      <td>comp4</td>\n",
       "    </tr>\n",
       "    <tr>\n",
       "      <th>2</th>\n",
       "      <td>1</td>\n",
       "      <td>model3</td>\n",
       "      <td>18</td>\n",
       "      <td>2014-07-31 06:00:00</td>\n",
       "      <td>comp3</td>\n",
       "    </tr>\n",
       "    <tr>\n",
       "      <th>3</th>\n",
       "      <td>1</td>\n",
       "      <td>model3</td>\n",
       "      <td>18</td>\n",
       "      <td>2014-12-13 06:00:00</td>\n",
       "      <td>comp1</td>\n",
       "    </tr>\n",
       "    <tr>\n",
       "      <th>4</th>\n",
       "      <td>1</td>\n",
       "      <td>model3</td>\n",
       "      <td>18</td>\n",
       "      <td>2015-01-05 06:00:00</td>\n",
       "      <td>comp4</td>\n",
       "    </tr>\n",
       "    <tr>\n",
       "      <th>...</th>\n",
       "      <td>...</td>\n",
       "      <td>...</td>\n",
       "      <td>...</td>\n",
       "      <td>...</td>\n",
       "      <td>...</td>\n",
       "    </tr>\n",
       "    <tr>\n",
       "      <th>3281</th>\n",
       "      <td>100</td>\n",
       "      <td>model4</td>\n",
       "      <td>5</td>\n",
       "      <td>2015-10-10 06:00:00</td>\n",
       "      <td>comp3</td>\n",
       "    </tr>\n",
       "    <tr>\n",
       "      <th>3282</th>\n",
       "      <td>100</td>\n",
       "      <td>model4</td>\n",
       "      <td>5</td>\n",
       "      <td>2015-10-25 06:00:00</td>\n",
       "      <td>comp4</td>\n",
       "    </tr>\n",
       "    <tr>\n",
       "      <th>3283</th>\n",
       "      <td>100</td>\n",
       "      <td>model4</td>\n",
       "      <td>5</td>\n",
       "      <td>2015-11-09 06:00:00</td>\n",
       "      <td>comp4</td>\n",
       "    </tr>\n",
       "    <tr>\n",
       "      <th>3284</th>\n",
       "      <td>100</td>\n",
       "      <td>model4</td>\n",
       "      <td>5</td>\n",
       "      <td>2015-12-09 06:00:00</td>\n",
       "      <td>comp2</td>\n",
       "    </tr>\n",
       "    <tr>\n",
       "      <th>3285</th>\n",
       "      <td>100</td>\n",
       "      <td>model4</td>\n",
       "      <td>5</td>\n",
       "      <td>2015-12-24 06:00:00</td>\n",
       "      <td>comp2</td>\n",
       "    </tr>\n",
       "  </tbody>\n",
       "</table>\n",
       "<p>3286 rows × 5 columns</p>\n",
       "</div>"
      ],
      "text/plain": [
       "     machineID   model age            datetime   comp\n",
       "0            1  model3  18 2014-06-01 06:00:00  comp2\n",
       "1            1  model3  18 2014-07-16 06:00:00  comp4\n",
       "2            1  model3  18 2014-07-31 06:00:00  comp3\n",
       "3            1  model3  18 2014-12-13 06:00:00  comp1\n",
       "4            1  model3  18 2015-01-05 06:00:00  comp4\n",
       "...        ...     ...  ..                 ...    ...\n",
       "3281       100  model4   5 2015-10-10 06:00:00  comp3\n",
       "3282       100  model4   5 2015-10-25 06:00:00  comp4\n",
       "3283       100  model4   5 2015-11-09 06:00:00  comp4\n",
       "3284       100  model4   5 2015-12-09 06:00:00  comp2\n",
       "3285       100  model4   5 2015-12-24 06:00:00  comp2\n",
       "\n",
       "[3286 rows x 5 columns]"
      ]
     },
     "execution_count": 34,
     "metadata": {},
     "output_type": "execute_result"
    }
   ],
   "source": [
    "print(machines.shape)\n",
    "print(maint.shape)\n",
    "df = pd.merge(machines, maint)\n",
    "\n",
    "print(df.shape)\n",
    "df"
   ]
  },
  {
   "cell_type": "code",
   "execution_count": null,
   "id": "c4662e67",
   "metadata": {},
   "outputs": [],
   "source": [
    "#date.value_counts().str().split() \n",
    "#telemetry[\"datetime\"].str.split(' ').str[0]\n",
    "print(telemetry[\"datetime\"].str.split(' ').str[0].unique())\n",
    "print(telemetry[\"datetime\"].str.split(' ').str[1].unique())"
   ]
  },
  {
   "cell_type": "code",
   "execution_count": null,
   "id": "f87b8140",
   "metadata": {},
   "outputs": [],
   "source": [
    "print(failures.shape)\n",
    "df2 = pd.merge(df, failures, how = 'outer')\n",
    "df2.shape"
   ]
  },
  {
   "attachments": {},
   "cell_type": "markdown",
   "id": "f9503826",
   "metadata": {},
   "source": [
    "take difference of datetime of maint and failures of components \n",
    "\n",
    "subset on the basis of components"
   ]
  },
  {
   "cell_type": "code",
   "execution_count": null,
   "id": "0d0e4cd7",
   "metadata": {},
   "outputs": [],
   "source": [
    "machines['age'].value_counts() # y is failure"
   ]
  },
  {
   "cell_type": "code",
   "execution_count": null,
   "id": "b6e32f7d",
   "metadata": {},
   "outputs": [],
   "source": [
    "df = pd.merge(df, errors , how = 'outer' )\n",
    "print(errors.shape)\n",
    "print(df.shape) "
   ]
  },
  {
   "cell_type": "code",
   "execution_count": null,
   "id": "3ab1bb17",
   "metadata": {},
   "outputs": [],
   "source": [
    "print(telemetry.shape)\n",
    "print(maint.shape)\n",
    "print(df.shape)"
   ]
  },
  {
   "cell_type": "code",
   "execution_count": null,
   "id": "35823cd8",
   "metadata": {},
   "outputs": [],
   "source": [
    "if (df.shape[0] - telemetry.shape[0]) == maint.shape[0]:\n",
    "    print('Merge approved')\n",
    "else:\n",
    "    print('Something seems incorrect')"
   ]
  },
  {
   "cell_type": "code",
   "execution_count": null,
   "id": "c91e310e",
   "metadata": {},
   "outputs": [],
   "source": [
    "print (errors.keys() , failures.keys() , machines.keys() , telemetry.keys() , maint.keys())"
   ]
  },
  {
   "attachments": {},
   "cell_type": "markdown",
   "id": "4adc4e1b",
   "metadata": {},
   "source": [
    "### Descriptive analysis of the datasets machines, maintenace, failures, erros "
   ]
  },
  {
   "cell_type": "code",
   "execution_count": null,
   "id": "ebcd2747",
   "metadata": {},
   "outputs": [],
   "source": [
    "machines.dtypes"
   ]
  },
  {
   "cell_type": "code",
   "execution_count": null,
   "id": "66389cdc",
   "metadata": {},
   "outputs": [],
   "source": [
    "machines"
   ]
  },
  {
   "cell_type": "code",
   "execution_count": null,
   "id": "6421ff8e",
   "metadata": {},
   "outputs": [],
   "source": [
    "machines['model'].value_counts()\n",
    "def get_model:\n",
    "    "
   ]
  },
  {
   "attachments": {},
   "cell_type": "markdown",
   "id": "812b28c9",
   "metadata": {},
   "source": []
  },
  {
   "cell_type": "code",
   "execution_count": null,
   "id": "e09c0c55",
   "metadata": {},
   "outputs": [],
   "source": [
    "machines"
   ]
  },
  {
   "cell_type": "code",
   "execution_count": null,
   "id": "6ecdae77",
   "metadata": {},
   "outputs": [],
   "source": [
    "telemetry.describe()"
   ]
  },
  {
   "cell_type": "code",
   "execution_count": null,
   "id": "7b8af063",
   "metadata": {},
   "outputs": [
    {
     "data": {
      "text/plain": [
       "Index(['datetime', 'machineID', 'volt', 'rotate', 'pressure', 'vibration',\n",
       "       'date', 'time', 'hour', 'day_of_week', 'month', 'year'],\n",
       "      dtype='object')"
      ]
     },
     "execution_count": 87,
     "metadata": {},
     "output_type": "execute_result"
    }
   ],
   "source": [
    "\n",
    "\n",
    "telemetry.keys()"
   ]
  },
  {
   "cell_type": "code",
   "execution_count": null,
   "id": "1967dbf7",
   "metadata": {},
   "outputs": [],
   "source": [
    "telemetry"
   ]
  },
  {
   "attachments": {},
   "cell_type": "markdown",
   "id": "0aecf979",
   "metadata": {},
   "source": [
    "How do you know the anomalities affect different components. May have to do it based on the dates. Match the dates with the best match on the telemetry. SUppose 2015-1-1 at 6 am there was a failure then we have to match it. Match the rotate, pressure etc in two file. If I want to predict the failures then it should be recorded by the signals data "
   ]
  },
  {
   "cell_type": "code",
   "execution_count": null,
   "id": "9a883275",
   "metadata": {},
   "outputs": [],
   "source": [
    "errorID = errors['errorID'].unique() \n",
    "errors['errorID'].value_counts()"
   ]
  },
  {
   "cell_type": "code",
   "execution_count": null,
   "id": "35778e7d",
   "metadata": {},
   "outputs": [],
   "source": [
    "#df_merged[['date','time']] = pd.DataFrame(df_merged.datetime.tolist(), index= df_merged.index)"
   ]
  },
  {
   "cell_type": "code",
   "execution_count": null,
   "id": "923ca6a8",
   "metadata": {},
   "outputs": [],
   "source": [
    "errors"
   ]
  },
  {
   "attachments": {},
   "cell_type": "markdown",
   "id": "5e175370",
   "metadata": {},
   "source": [
    "errors are errors in the sensor. example if in an infrared sensor, dust hinders the readings then it will show a type of error. Therefore, these are different kinds of errors - where sensors are sending qrong information due to the sensitivity. Perhaps later they get aligned. It just shows a glitch in the algorithm but it is not to be confused with the failures. we won't know the different types of errors but still try and find patterns with signals data and errors. "
   ]
  },
  {
   "attachments": {},
   "cell_type": "markdown",
   "id": "a3a0796c",
   "metadata": {},
   "source": [
    "What are the key insights that will help the company in better predictive maintenance. - Should be ideally answering this \n",
    "example-\n",
    "1. Is there any pattern in the signals data that we use as indicators of failures. - Overloaded, overheated etc. - detect these patterns. We may be don'tn have info about how a moto was overheated etc. My aim should still be to find out the different causes. \n",
    "2. Susppose we do not know any such patterns. Show in a robust way to show your data analysis \n",
    "3. is there a set of  sensors are more associated with one type of failures etc. - same for error type. "
   ]
  },
  {
   "cell_type": "code",
   "execution_count": null,
   "id": "41643dc9",
   "metadata": {},
   "outputs": [],
   "source": [
    "machines"
   ]
  },
  {
   "cell_type": "code",
   "execution_count": null,
   "id": "a2a958cf",
   "metadata": {},
   "outputs": [],
   "source": [
    "failures"
   ]
  },
  {
   "cell_type": "code",
   "execution_count": null,
   "id": "8f0cec9a",
   "metadata": {},
   "outputs": [],
   "source": [
    "def various_data_info(df):\n",
    "    print(df.describe())\n",
    "    print(df.isna().sum())\n",
    "    print(df.info())\n",
    "various_data_info(errors)"
   ]
  },
  {
   "cell_type": "code",
   "execution_count": null,
   "id": "ae5c411f-87ce-4dc5-b22b-c171649195c5",
   "metadata": {},
   "outputs": [],
   "source": [
    "print( 'Description of failures^ \\n', various_data_info(failures))\n",
    "print( 'Description of machines^ \\n', various_data_info(machines))\n",
    "print( 'Description of telemetry^ \\n', various_data_info(telemetry))"
   ]
  },
  {
   "cell_type": "code",
   "execution_count": null,
   "id": "4fd167ae-08bc-4bfa-94ec-8764be7c161a",
   "metadata": {},
   "outputs": [],
   "source": [
    "#errors.loc[0:10, 'datetime': 'machineID']"
   ]
  },
  {
   "cell_type": "code",
   "execution_count": null,
   "id": "9d3857a9-204e-4db0-a108-992879523ba5",
   "metadata": {},
   "outputs": [],
   "source": [
    "errors.keys()"
   ]
  },
  {
   "cell_type": "code",
   "execution_count": null,
   "id": "552c436a-887b-475f-b6a3-e939b4ae28a8",
   "metadata": {},
   "outputs": [],
   "source": [
    "errors['datetime'].value_counts().unique()"
   ]
  },
  {
   "cell_type": "code",
   "execution_count": null,
   "id": "752319d1-7c3b-4925-9789-f1f324b4acc6",
   "metadata": {},
   "outputs": [],
   "source": [
    "sns.boxplot(errors['machineID'].unique())"
   ]
  },
  {
   "cell_type": "code",
   "execution_count": null,
   "id": "3f3a0069-b082-4044-9d53-b507b25831f8",
   "metadata": {},
   "outputs": [],
   "source": [
    "errors['machineID'].unique()"
   ]
  },
  {
   "attachments": {},
   "cell_type": "markdown",
   "id": "c8d9cbdf",
   "metadata": {},
   "source": [
    "### Results & Discussions"
   ]
  },
  {
   "cell_type": "code",
   "execution_count": 41,
   "id": "e3f7b4c6",
   "metadata": {},
   "outputs": [
    {
     "name": "stdout",
     "output_type": "stream",
     "text": [
      "100    31\n",
      "99     54\n",
      "98     45\n",
      "97     45\n",
      "96     39\n",
      "       ..\n",
      "5      38\n",
      "4      31\n",
      "3      39\n",
      "2      28\n",
      "1      35\n",
      "Name: machineID, Length: 100, dtype: int64\n",
      "Maximum errors were seen in machine ID: 60\n",
      "Total number of machines that recorded failure at any point: 98\n",
      "Maximum errors were seen in machine ID: 60\n",
      "None\n",
      "Least errors were observed in machine ID: 22\n",
      "None\n",
      "Maximum failures were seen in machine ID: 19\n",
      "None\n",
      "Least failures were observed in machine ID: 2\n",
      "None\n"
     ]
    }
   ],
   "source": [
    "print(\"Total number of machines that recorded failure at any point:\" , len(failures['machineID'].value_counts()) )\n",
    "print( print(\"Maximum errors were seen in machine ID:\" , errors['machineID'].value_counts().max()))\n",
    "print( print(\"Least errors were observed in machine ID:\" , errors['machineID'].value_counts().min()))\n",
    "print( print(\"Maximum failures were seen in machine ID:\" , failures['machineID'].value_counts().max()))\n",
    "print( print(\"Least failures were observed in machine ID:\" , failures['machineID'].value_counts().min()))"
   ]
  },
  {
   "attachments": {},
   "cell_type": "markdown",
   "id": "761a830b",
   "metadata": {},
   "source": [
    "While 2 machines experienced no failure at all during this time frame"
   ]
  },
  {
   "cell_type": "code",
   "execution_count": null,
   "id": "023f46b4",
   "metadata": {},
   "outputs": [],
   "source": [
    "failures.keys()"
   ]
  },
  {
   "cell_type": "code",
   "execution_count": null,
   "id": "4b7751a4-12fe-4056-b8f1-47b811b5ec0e",
   "metadata": {},
   "outputs": [],
   "source": [
    "telemetry['datetime'].value_counts()"
   ]
  },
  {
   "cell_type": "code",
   "execution_count": null,
   "id": "799c14ce",
   "metadata": {},
   "outputs": [],
   "source": [
    "failures['datetime'].value_counts()"
   ]
  },
  {
   "cell_type": "code",
   "execution_count": 40,
   "id": "fd6b4745",
   "metadata": {},
   "outputs": [
    {
     "data": {
      "text/html": [
       "<div>\n",
       "<style scoped>\n",
       "    .dataframe tbody tr th:only-of-type {\n",
       "        vertical-align: middle;\n",
       "    }\n",
       "\n",
       "    .dataframe tbody tr th {\n",
       "        vertical-align: top;\n",
       "    }\n",
       "\n",
       "    .dataframe thead th {\n",
       "        text-align: right;\n",
       "    }\n",
       "</style>\n",
       "<table border=\"1\" class=\"dataframe\">\n",
       "  <thead>\n",
       "    <tr style=\"text-align: right;\">\n",
       "      <th></th>\n",
       "      <th>datetime</th>\n",
       "      <th>machineID</th>\n",
       "      <th>failure</th>\n",
       "    </tr>\n",
       "  </thead>\n",
       "  <tbody>\n",
       "    <tr>\n",
       "      <th>0</th>\n",
       "      <td>2015-01-05 06:00:00</td>\n",
       "      <td>1</td>\n",
       "      <td>comp4</td>\n",
       "    </tr>\n",
       "    <tr>\n",
       "      <th>1</th>\n",
       "      <td>2015-03-06 06:00:00</td>\n",
       "      <td>1</td>\n",
       "      <td>comp1</td>\n",
       "    </tr>\n",
       "    <tr>\n",
       "      <th>2</th>\n",
       "      <td>2015-04-20 06:00:00</td>\n",
       "      <td>1</td>\n",
       "      <td>comp2</td>\n",
       "    </tr>\n",
       "    <tr>\n",
       "      <th>3</th>\n",
       "      <td>2015-06-19 06:00:00</td>\n",
       "      <td>1</td>\n",
       "      <td>comp4</td>\n",
       "    </tr>\n",
       "    <tr>\n",
       "      <th>4</th>\n",
       "      <td>2015-09-02 06:00:00</td>\n",
       "      <td>1</td>\n",
       "      <td>comp4</td>\n",
       "    </tr>\n",
       "    <tr>\n",
       "      <th>...</th>\n",
       "      <td>...</td>\n",
       "      <td>...</td>\n",
       "      <td>...</td>\n",
       "    </tr>\n",
       "    <tr>\n",
       "      <th>756</th>\n",
       "      <td>2015-11-29 06:00:00</td>\n",
       "      <td>99</td>\n",
       "      <td>comp3</td>\n",
       "    </tr>\n",
       "    <tr>\n",
       "      <th>757</th>\n",
       "      <td>2015-12-14 06:00:00</td>\n",
       "      <td>99</td>\n",
       "      <td>comp4</td>\n",
       "    </tr>\n",
       "    <tr>\n",
       "      <th>758</th>\n",
       "      <td>2015-02-12 06:00:00</td>\n",
       "      <td>100</td>\n",
       "      <td>comp1</td>\n",
       "    </tr>\n",
       "    <tr>\n",
       "      <th>759</th>\n",
       "      <td>2015-09-10 06:00:00</td>\n",
       "      <td>100</td>\n",
       "      <td>comp1</td>\n",
       "    </tr>\n",
       "    <tr>\n",
       "      <th>760</th>\n",
       "      <td>2015-12-09 06:00:00</td>\n",
       "      <td>100</td>\n",
       "      <td>comp2</td>\n",
       "    </tr>\n",
       "  </tbody>\n",
       "</table>\n",
       "<p>761 rows × 3 columns</p>\n",
       "</div>"
      ],
      "text/plain": [
       "               datetime machineID failure\n",
       "0   2015-01-05 06:00:00         1   comp4\n",
       "1   2015-03-06 06:00:00         1   comp1\n",
       "2   2015-04-20 06:00:00         1   comp2\n",
       "3   2015-06-19 06:00:00         1   comp4\n",
       "4   2015-09-02 06:00:00         1   comp4\n",
       "..                  ...       ...     ...\n",
       "756 2015-11-29 06:00:00        99   comp3\n",
       "757 2015-12-14 06:00:00        99   comp4\n",
       "758 2015-02-12 06:00:00       100   comp1\n",
       "759 2015-09-10 06:00:00       100   comp1\n",
       "760 2015-12-09 06:00:00       100   comp2\n",
       "\n",
       "[761 rows x 3 columns]"
      ]
     },
     "execution_count": 40,
     "metadata": {},
     "output_type": "execute_result"
    }
   ],
   "source": [
    "\n",
    "failures"
   ]
  },
  {
   "cell_type": "code",
   "execution_count": 220,
   "id": "c4ab3075",
   "metadata": {},
   "outputs": [
    {
     "name": "stdout",
     "output_type": "stream",
     "text": [
      "Index(['datetime', 'machineID', 'volt', 'rotate', 'pressure', 'vibration'], dtype='object')\n",
      "(876100, 6)\n"
     ]
    }
   ],
   "source": [
    "print(telemetry.keys())\n",
    "print(telemetry.shape)"
   ]
  },
  {
   "cell_type": "code",
   "execution_count": 230,
   "id": "fb5672e3",
   "metadata": {},
   "outputs": [
    {
     "data": {
      "text/plain": [
       "False"
      ]
     },
     "execution_count": 230,
     "metadata": {},
     "output_type": "execute_result"
    }
   ],
   "source": [
    "telemetry['machineID'].value_counts()\n",
    "any(telemetry['machineID'].value_counts() < 8761)"
   ]
  },
  {
   "cell_type": "code",
   "execution_count": 50,
   "id": "a3fc1596",
   "metadata": {},
   "outputs": [
    {
     "name": "stdout",
     "output_type": "stream",
     "text": [
      "a\n",
      "a\n",
      "a\n"
     ]
    }
   ],
   "source": [
    "#For Loop practice  \n",
    "\n",
    "for i in \"Datacamp\":\n",
    "    if i == 'a':\n",
    "        print (i)\n",
    "\n",
    "li = []\n",
    "for i in failures.columns:\n",
    "    if i == 'datetime':\n",
    "        li.append(i)"
   ]
  },
  {
   "cell_type": "code",
   "execution_count": 232,
   "id": "bf4c1d9d",
   "metadata": {},
   "outputs": [
    {
     "ename": "SyntaxError",
     "evalue": "invalid syntax (Temp/ipykernel_16036/1560353717.py, line 7)",
     "output_type": "error",
     "traceback": [
      "\u001b[1;36m  File \u001b[1;32m\"C:\\Users\\Lenovo\\AppData\\Local\\Temp/ipykernel_16036/1560353717.py\"\u001b[1;36m, line \u001b[1;32m7\u001b[0m\n\u001b[1;33m    df_new['combo'] = df_new['machineID'].astype(str) + df_new['datetime'].astype(str)\u001b[0m\n\u001b[1;37m    ^\u001b[0m\n\u001b[1;31mSyntaxError\u001b[0m\u001b[1;31m:\u001b[0m invalid syntax\n"
     ]
    }
   ],
   "source": [
    "df_new = pd.merge(df_telemetry,df_failure, on=['datetime','machineID'],how='left')\n",
    "df_new = df_new.replace(np.NaN,0)\n",
    "print(\"Shape of the merged data without duplicate check:\" , df_new.shape #42 extra columns are received. Check fot duplicate rows \n",
    "\n",
    "#creating an extra column that will have unique datetime+machineID\n",
    "\n",
    "df_new['combo'] = df_new['machineID'].astype(str) + df_new['datetime'].astype(str) \n",
    "# df_new['combo'].value_counts() to check duplicates Anything greater than 1 will be duplicated\n",
    "li = df_new['combo'].value_counts()\n",
    "valids = li[li > 1].index  \n",
    "\n",
    "df_new[df_new['combo'].isin(valids)] #create a dataframe To get rows of deficit indices\n",
    "# Here dropping the duplicate rows becomes essential  i.e 84 duplicate rows are found thus dropping 42 to get the unique.\n",
    "df_new = df_new.drop_duplicates(subset=['combo']) \n",
    "print(\"Shape of telemetry dataset:\", df_telemetry.shape)\n",
    "print(\"failure column + a unique combo column added to check duplicate rows. 42 extra have been remove.\")\n",
    "print(\"Shape of merged dataset:   \", df_new.shape) "
   ]
  },
  {
   "cell_type": "code",
   "execution_count": null,
   "id": "2d6b559d",
   "metadata": {},
   "outputs": [],
   "source": []
  }
 ],
 "metadata": {
  "kernelspec": {
   "display_name": "Python 3 (ipykernel)",
   "language": "python",
   "name": "python3"
  },
  "language_info": {
   "codemirror_mode": {
    "name": "ipython",
    "version": 3
   },
   "file_extension": ".py",
   "mimetype": "text/x-python",
   "name": "python",
   "nbconvert_exporter": "python",
   "pygments_lexer": "ipython3",
   "version": "3.9.7"
  }
 },
 "nbformat": 4,
 "nbformat_minor": 5
}
